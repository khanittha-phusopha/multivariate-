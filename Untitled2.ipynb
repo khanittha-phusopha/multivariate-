{
  "nbformat": 4,
  "nbformat_minor": 0,
  "metadata": {
    "colab": {
      "name": "Untitled2.ipynb",
      "provenance": [],
      "authorship_tag": "ABX9TyNQjArUGUEZNe4nEFq27v3M",
      "include_colab_link": true
    },
    "kernelspec": {
      "name": "python3",
      "display_name": "Python 3"
    }
  },
  "cells": [
    {
      "cell_type": "markdown",
      "metadata": {
        "id": "view-in-github",
        "colab_type": "text"
      },
      "source": [
        "<a href=\"https://colab.research.google.com/github/khanittha-phusopha/multivariate-/blob/main/Untitled2.ipynb\" target=\"_parent\"><img src=\"https://colab.research.google.com/assets/colab-badge.svg\" alt=\"Open In Colab\"/></a>"
      ]
    },
    {
      "cell_type": "markdown",
      "metadata": {
        "id": "SWsRqHszWQl_"
      },
      "source": [
        "##Scarlar,Vector,Matrix"
      ]
    },
    {
      "cell_type": "code",
      "metadata": {
        "id": "epSbtwWfWys-"
      },
      "source": [
        "import numpy as np"
      ],
      "execution_count": 1,
      "outputs": []
    },
    {
      "cell_type": "code",
      "metadata": {
        "colab": {
          "base_uri": "https://localhost:8080/"
        },
        "id": "BM2Q40TzW6iV",
        "outputId": "63beeee2-79ee-49c1-86c3-1db611336368"
      },
      "source": [
        "scalar_a=10 #scalar\r\n",
        "print(scalar_a)"
      ],
      "execution_count": 2,
      "outputs": [
        {
          "output_type": "stream",
          "text": [
            "10\n"
          ],
          "name": "stdout"
        }
      ]
    },
    {
      "cell_type": "code",
      "metadata": {
        "colab": {
          "base_uri": "https://localhost:8080/"
        },
        "id": "-oGbFk9kVnKU",
        "outputId": "fa4d587f-5c92-4aee-b6df-f52344a45192"
      },
      "source": [
        "vector_b = np.zeros([2,1])\r\n",
        "vector_b[0,0]=1\r\n",
        "vector_b[1,0]=3\r\n",
        "print(vector_b)\r\n",
        "print(vector_b.shape)"
      ],
      "execution_count": 5,
      "outputs": [
        {
          "output_type": "stream",
          "text": [
            "[[1.]\n",
            " [3.]]\n",
            "(2, 1)\n"
          ],
          "name": "stdout"
        }
      ]
    },
    {
      "cell_type": "code",
      "metadata": {
        "colab": {
          "base_uri": "https://localhost:8080/"
        },
        "id": "7xO_Nq_-YV0C",
        "outputId": "8cf0e767-2a9b-441b-b23c-ad8eb551c28d"
      },
      "source": [
        "vector_c = np.array([[1],[2]])\r\n",
        "print(vector_c)\r\n",
        "print(vector_c.shape)"
      ],
      "execution_count": 6,
      "outputs": [
        {
          "output_type": "stream",
          "text": [
            "[[1]\n",
            " [2]]\n",
            "(2, 1)\n"
          ],
          "name": "stdout"
        }
      ]
    },
    {
      "cell_type": "code",
      "metadata": {
        "id": "6YepEAnyY2tn"
      },
      "source": [
        " oo"
      ],
      "execution_count": null,
      "outputs": []
    }
  ]
}