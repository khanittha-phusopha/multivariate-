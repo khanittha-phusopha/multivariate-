{
  "nbformat": 4,
  "nbformat_minor": 0,
  "metadata": {
    "colab": {
      "name": "Untitled0.ipynb",
      "provenance": [],
      "authorship_tag": "ABX9TyOcGegku5xIl/1eUJagCk2k",
      "include_colab_link": true
    },
    "kernelspec": {
      "name": "python3",
      "display_name": "Python 3"
    }
  },
  "cells": [
    {
      "cell_type": "markdown",
      "metadata": {
        "id": "view-in-github",
        "colab_type": "text"
      },
      "source": [
        "<a href=\"https://colab.research.google.com/github/khanittha-phusopha/multivariate-/blob/main/Untitled0.ipynb\" target=\"_parent\"><img src=\"https://colab.research.google.com/assets/colab-badge.svg\" alt=\"Open In Colab\"/></a>"
      ]
    },
    {
      "cell_type": "markdown",
      "metadata": {
        "id": "l9H2hFBbtacv"
      },
      "source": [
        "###Function\r\n",
        "def function_name(Input): do_something with Input to produce Output return Output\r\n",
        "\r\n",
        "\r\n",
        "\r\n",
        "[12]\r\n",
        "def print_name(name,surname,ID):\r\n",
        "    st = f'ชื่อ {name} นามสกุล {surname} ID {ID}'\r\n",
        "    return st\r\n",
        "print('outside function')\r\n",
        "outside function\r\n",
        "การเรียกใช้ฟังก์ชั่น\r\n",
        "\r\n",
        "[38]\r\n",
        "print_name('ขนิษฐา', 'ภูโสภา', '623021042-5')\r\n",
        "\r\n",
        "[39]\r\n",
        "output_string = print_name('ขนิษฐา', 'ภูโสภา', '623021042-5')\r\n",
        "print(output_string)\r\n",
        "ชื่อ ขนิษฐา นามสกุล ภูโสภา ID 623021042-5\r\n",
        "ฟังก์ชั่นไม่จำเป็นต้องมี output\r\n",
        "[40]\r\n",
        "def print_name2(surname,ID,name):\r\n",
        "  st=f'ชื่อ {name} นามสกุล {surname} รหัส {ID}'\r\n",
        "  print(st)\r\n",
        "[41]\r\n",
        "print_name2('ขนิษฐา', 'ภูโสภา', '623021042-5')\r\n",
        "ชื่อ 623021042-5 นามสกุล ขนิษฐา รหัส ภูโสภา\r\n",
        "[42]\r\n",
        "op2=print_name2('ขนิษฐา', 'ภูโสภา', '623021042-5')\r\n",
        "ชื่อ 623021042-5 นามสกุล ขนิษฐา รหัส ภูโสภา\r\n",
        "[44]\r\n",
        "print(op2)\r\n",
        "None\r\n",
        "ฟังก์ชั่นไม่จำเป็นต้องมี input\r\n",
        "[26]\r\n",
        "def Pi():\r\n",
        "    return 3.14159265359\r\n",
        "[27]\r\n",
        "#คำนวณพื้นที่วงกลมที่มีขนาดเส้นผ่านศูนย์กลางเท่ากับ 3\r\n",
        "Pi()*(1.5**2)\r\n",
        "7.0685834705775\r\n",
        "[30]\r\n",
        "def print_my_name():\r\n",
        "    print('ขนิษฐา ภูโสภา IDxxxxxxx')\r\n",
        "[31]\r\n",
        "print_my_name()\r\n",
        "ขนิษฐา ภูโสภา IDxxxxxxx\r\n",
        "1. input ของ function ใน python มีสองแบบ input ที่จำเป็นต้องใส่ กับ input ที่ไม่จำเป็นต้องใส่ (มีค่า default)\r\n",
        "2. เราต้องเรียง input ที่จำเป็นต้องใส่ขึ้นก่อน\r\n",
        "[32]\r\n",
        "def print_2lines_default(name, surname, ID, grade='F'):\r\n",
        "    st = f'ชื่อ {name} นามสกุล {surname} รหัส {ID}'\r\n",
        "    print(st)\r\n",
        "    st2=f'เกรดวิชา Multivariate >>> {grade}'\r\n",
        "    print(st2)\r\n",
        "[33]\r\n",
        "print_2lines_default('ขนิษฐา','ภูโสภา','623021042-5')\r\n",
        "ชื่อ ขนิษฐา นามสกุล ภูโสภา รหัส 623021042-5\r\n",
        "เกรดวิชา Multivariate >>> F\r\n",
        "[37]\r\n",
        "print_2lines_default('ขนิษฐา','ภูโสภา','623021042-5','A')\r\n",
        "ชื่อ ภิญญาดา นามสกุล เพ็ญสุข รหัส 623021052-2\r\n",
        "เกรดวิชา Multivariate >>> A\r\n",
        "เราสามารถเรียกฟังก์ชั่นโดยใช้ชื่อตัวแปรของฟังก์ชั่นช่วยได้\r\n",
        "\r\n",
        "[36]\r\n",
        "print_name2(name='ขนิษฐา', surname='ภูโสภา', ID='623021042-5')\r\n",
        "\r\n",
        "HW3 ให้เขียน function คำนวณจำนวนวินาทีจาก เวลาต่อไปนี้\r\n",
        "\r\n",
        "'14-15-31'\r\n",
        "\r\n",
        "'13-00-01'\r\n",
        "\r\n",
        "'05-49-44'\r\n",
        "\r\n",
        "'00-00-16'\r\n",
        "\r\n",
        "และ print ให้สวยงาม"
      ]
    },
    {
      "cell_type": "markdown",
      "metadata": {
        "id": "g3--RMOmtqX2"
      },
      "source": [
        "###function มีส่วนสำคัญทั้งหมด 4 ส่วน\r\n",
        "1.บอก phython ว่าเราจะเขียนฟังก์ชั่น ชื่ออะไร def funtion_name(): (ขาดไม่ได้)\r\n",
        "\r\n",
        "2.กำหนดตัวแปรที่จะเป็น Input Input(ขาดไม่ได้)\r\n",
        "\r\n",
        "3.ส่วนประมวลผล do_something with Input to get Output(ขาดไม่ได้)\r\n",
        "\r\n",
        "4.ส่วน Output Return Output(ขาดได้)\r\n",
        "\r\n",
        "เราใช้ เว้นวรรค (indent) เพื่อบอกขอบเขตของ code\r\n"
      ]
    },
    {
      "cell_type": "code",
      "metadata": {
        "colab": {
          "base_uri": "https://localhost:8080/"
        },
        "id": "khCXhWRLuNIr",
        "outputId": "696defdd-b367-49aa-e5fe-1a234f890b71"
      },
      "source": [
        "def print_name(name,surname,ID):\r\n",
        "    st = f'ชื่อ {name} นามสกุล {surname} ID {ID}'\r\n",
        "    return st\r\n",
        "print('outside function')"
      ],
      "execution_count": 1,
      "outputs": [
        {
          "output_type": "stream",
          "text": [
            "outside function\n"
          ],
          "name": "stdout"
        }
      ]
    },
    {
      "cell_type": "markdown",
      "metadata": {
        "id": "iQHADlZjubnx"
      },
      "source": [
        "การเรียกใช้ฟังก์ชั่น"
      ]
    },
    {
      "cell_type": "code",
      "metadata": {
        "colab": {
          "base_uri": "https://localhost:8080/",
          "height": 34
        },
        "id": "WQ9YHzFUum7C",
        "outputId": "bf26657d-92a8-4c0c-86d5-a1f3d60afeb6"
      },
      "source": [
        "print_name('ขนิษฐา', 'ภูโสภา', '623021042-5')"
      ],
      "execution_count": 2,
      "outputs": [
        {
          "output_type": "execute_result",
          "data": {
            "application/vnd.google.colaboratory.intrinsic+json": {
              "type": "string"
            },
            "text/plain": [
              "'ชื่อ ขนิษฐา นามสกุล ภูโสภา ID 623021042-5'"
            ]
          },
          "metadata": {
            "tags": []
          },
          "execution_count": 2
        }
      ]
    },
    {
      "cell_type": "code",
      "metadata": {
        "id": "I-hpslLkuq8d"
      },
      "source": [
        "output_string = print_name('ขนิษฐา', 'ภูโสภา', '623021042-5')"
      ],
      "execution_count": 3,
      "outputs": []
    },
    {
      "cell_type": "markdown",
      "metadata": {
        "id": "VF_uVNEGuw7f"
      },
      "source": [
        "###ฟังก์ชั่นไม่จำเป็นต้องมี output"
      ]
    },
    {
      "cell_type": "code",
      "metadata": {
        "id": "sCrb2NNTu4dx"
      },
      "source": [
        "def print_name2(surname,ID,name):\r\n",
        "  st=f'ชื่อ {name} นามสกุล {surname} รหัส {ID}'\r\n",
        "  print(st)"
      ],
      "execution_count": 4,
      "outputs": []
    },
    {
      "cell_type": "code",
      "metadata": {
        "colab": {
          "base_uri": "https://localhost:8080/"
        },
        "id": "PKz18-PGu8LE",
        "outputId": "aba86aed-bebc-4262-cd3a-bff29aa3a9f4"
      },
      "source": [
        "print_name2('ขนิษฐา', 'ภูโสภา', '623021042-5')"
      ],
      "execution_count": 5,
      "outputs": [
        {
          "output_type": "stream",
          "text": [
            "ชื่อ 623021042-5 นามสกุล ขนิษฐา รหัส ภูโสภา\n"
          ],
          "name": "stdout"
        }
      ]
    },
    {
      "cell_type": "code",
      "metadata": {
        "colab": {
          "base_uri": "https://localhost:8080/"
        },
        "id": "7Dr1cycsu-IQ",
        "outputId": "28fe5d59-60c5-4d15-a733-9696dff3965d"
      },
      "source": [
        "op2=print_name2('ขนิษฐา', 'ภูโสภา', '623021042-5')"
      ],
      "execution_count": 6,
      "outputs": [
        {
          "output_type": "stream",
          "text": [
            "ชื่อ 623021042-5 นามสกุล ขนิษฐา รหัส ภูโสภา\n"
          ],
          "name": "stdout"
        }
      ]
    },
    {
      "cell_type": "code",
      "metadata": {
        "colab": {
          "base_uri": "https://localhost:8080/"
        },
        "id": "TWAacmGIvD3N",
        "outputId": "52581d5e-2d23-4dc9-a5e6-b077cb63eca7"
      },
      "source": [
        "print(op2)"
      ],
      "execution_count": 7,
      "outputs": [
        {
          "output_type": "stream",
          "text": [
            "None\n"
          ],
          "name": "stdout"
        }
      ]
    },
    {
      "cell_type": "markdown",
      "metadata": {
        "id": "R7nkcTfavJBz"
      },
      "source": [
        "###ฟังก์ชั่นไม่จำเป็นต้องมี input"
      ]
    },
    {
      "cell_type": "code",
      "metadata": {
        "id": "THDIwv8YvMGY"
      },
      "source": [
        "def Pi():\r\n",
        "    return 3.14159265359"
      ],
      "execution_count": 8,
      "outputs": []
    },
    {
      "cell_type": "code",
      "metadata": {
        "colab": {
          "base_uri": "https://localhost:8080/"
        },
        "id": "hKR1GRk6vX7X",
        "outputId": "07fff675-8297-4131-c118-836f6723797a"
      },
      "source": [
        "#คำนวณพื้นที่วงกลมที่มีขนาดเส้นผ่านศูนย์กลางเท่ากับ 3\r\n",
        "Pi()*(1.5**2)"
      ],
      "execution_count": 9,
      "outputs": [
        {
          "output_type": "execute_result",
          "data": {
            "text/plain": [
              "7.0685834705775"
            ]
          },
          "metadata": {
            "tags": []
          },
          "execution_count": 9
        }
      ]
    },
    {
      "cell_type": "code",
      "metadata": {
        "id": "dv6s7pY9vZRH"
      },
      "source": [
        "def print_my_name():\r\n",
        "    print('ขนิษฐา ภูโสภา IDxxxxxxx')"
      ],
      "execution_count": 10,
      "outputs": []
    },
    {
      "cell_type": "code",
      "metadata": {
        "colab": {
          "base_uri": "https://localhost:8080/"
        },
        "id": "wbdlT7kUvfNf",
        "outputId": "dd1733db-1b38-4480-fd19-b4c3059da617"
      },
      "source": [
        "print_my_name()"
      ],
      "execution_count": 11,
      "outputs": [
        {
          "output_type": "stream",
          "text": [
            "ขนิษฐา ภูโสภา IDxxxxxxx\n"
          ],
          "name": "stdout"
        }
      ]
    },
    {
      "cell_type": "markdown",
      "metadata": {
        "id": "8tz-BhAmvm8Z"
      },
      "source": [
        "##1. input ของ function ใน python มีสองแบบ input ที่จำเป็นต้องใส่ กับ input ที่ไม่จำเป็นต้องใส่ (มีค่า default)\r\n",
        "##2. เราต้องเรียง input ที่จำเป็นต้องใส่ขึ้นก่อน"
      ]
    },
    {
      "cell_type": "code",
      "metadata": {
        "id": "Pid1VlPHvwP0"
      },
      "source": [
        "def print_2lines_default(name, surname, ID, grade='F'):\r\n",
        "    st = f'ชื่อ {name} นามสกุล {surname} รหัส {ID}'\r\n",
        "    print(st)\r\n",
        "    st2=f'เกรดวิชา Multivariate >>> {grade}'\r\n",
        "    print(st2)"
      ],
      "execution_count": 12,
      "outputs": []
    },
    {
      "cell_type": "code",
      "metadata": {
        "colab": {
          "base_uri": "https://localhost:8080/"
        },
        "id": "DfH_XFwNv7hz",
        "outputId": "ae96c83d-94e7-487d-a904-3de5d2960fd9"
      },
      "source": [
        "print_2lines_default('ขนิษฐา','ภูโสภา','623021042-5')"
      ],
      "execution_count": 13,
      "outputs": [
        {
          "output_type": "stream",
          "text": [
            "ชื่อ ขนิษฐา นามสกุล ภูโสภา รหัส 623021042-5\n",
            "เกรดวิชา Multivariate >>> F\n"
          ],
          "name": "stdout"
        }
      ]
    },
    {
      "cell_type": "code",
      "metadata": {
        "colab": {
          "base_uri": "https://localhost:8080/"
        },
        "id": "qte8OiNVv_R7",
        "outputId": "a7027ceb-cb8d-45d5-a1bb-1a311eb0b1b2"
      },
      "source": [
        "print_2lines_default('ขนิษฐา','ภูโสภา','623021042-5','A')"
      ],
      "execution_count": 14,
      "outputs": [
        {
          "output_type": "stream",
          "text": [
            "ชื่อ ขนิษฐา นามสกุล ภูโสภา รหัส 623021042-5\n",
            "เกรดวิชา Multivariate >>> A\n"
          ],
          "name": "stdout"
        }
      ]
    },
    {
      "cell_type": "markdown",
      "metadata": {
        "id": "6m2GlrXcwGYy"
      },
      "source": [
        "###เราสามารถเรียกฟังก์ชั่นโดยใช้ชื่อตัวแปรของฟังก์ชั่นช่วยได้"
      ]
    },
    {
      "cell_type": "code",
      "metadata": {
        "colab": {
          "base_uri": "https://localhost:8080/"
        },
        "id": "f4eMUdC4wLJ-",
        "outputId": "52eca02f-7c62-49a4-e69d-aa092eea6268"
      },
      "source": [
        "print_name2(name='ขนิษฐา', surname='ภูโสภา', ID='623021042-5')"
      ],
      "execution_count": 15,
      "outputs": [
        {
          "output_type": "stream",
          "text": [
            "ชื่อ ขนิษฐา นามสกุล ภูโสภา รหัส 623021042-5\n"
          ],
          "name": "stdout"
        }
      ]
    },
    {
      "cell_type": "markdown",
      "metadata": {
        "id": "YBWiVh4YwPIn"
      },
      "source": [
        "HW3 ให้เขียน function คำนวณจำนวนวินาทีจาก เวลาต่อไปนี้\r\n",
        "\r\n",
        "'14-15-31'\r\n",
        "\r\n",
        "'13-00-01'\r\n",
        "\r\n",
        "'05-49-44'\r\n",
        "\r\n",
        "'00-00-16'\r\n",
        "\r\n",
        "และ print ให้สวยงาม"
      ]
    }
  ]
}