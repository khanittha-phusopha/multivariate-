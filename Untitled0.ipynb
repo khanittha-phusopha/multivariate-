{
  "nbformat": 4,
  "nbformat_minor": 0,
  "metadata": {
    "colab": {
      "name": "Untitled0.ipynb",
      "provenance": [],
      "include_colab_link": true
    },
    "kernelspec": {
      "name": "python3",
      "display_name": "Python 3"
    }
  },
  "cells": [
    {
      "cell_type": "markdown",
      "metadata": {
        "id": "view-in-github",
        "colab_type": "text"
      },
      "source": [
        "<a href=\"https://colab.research.google.com/github/khanittha-phusopha/multivariate-/blob/main/Untitled0.ipynb\" target=\"_parent\"><img src=\"https://colab.research.google.com/assets/colab-badge.svg\" alt=\"Open In Colab\"/></a>"
      ]
    },
    {
      "cell_type": "markdown",
      "metadata": {
        "id": "uNCs50XKQchi"
      },
      "source": [
        "###function"
      ]
    },
    {
      "cell_type": "markdown",
      "metadata": {
        "id": "g3--RMOmtqX2"
      },
      "source": [
        "###function มีส่วนสำคัญทั้งหมด 4 ส่วน\r\n",
        "1.บอก phython ว่าเราจะเขียนฟังก์ชั่น ชื่ออะไร def funtion_name(): (ขาดไม่ได้)\r\n",
        "\r\n",
        "2.กำหนดตัวแปรที่จะเป็น Input Input(ขาดไม่ได้)\r\n",
        "\r\n",
        "3.ส่วนประมวลผล do_something with Input to get Output(ขาดไม่ได้)\r\n",
        "\r\n",
        "4.ส่วน Output Return Output(ขาดได้)\r\n",
        "\r\n",
        "เราใช้ เว้นวรรค (indent) เพื่อบอกขอบเขตของ code\r\n"
      ]
    },
    {
      "cell_type": "code",
      "metadata": {
        "id": "rgEDEPGdQYFo"
      },
      "source": [
        ""
      ],
      "execution_count": null,
      "outputs": []
    },
    {
      "cell_type": "markdown",
      "metadata": {
        "id": "iQHADlZjubnx"
      },
      "source": [
        "การเรียกใช้ฟังก์ชั่น"
      ]
    },
    {
      "cell_type": "code",
      "metadata": {
        "colab": {
          "base_uri": "https://localhost:8080/",
          "height": 34
        },
        "id": "WQ9YHzFUum7C",
        "outputId": "99b02605-922b-488c-f56b-9b35bdefa827"
      },
      "source": [
        "print_name('ขนิษฐา', 'ภูโสภา', '623021042-5')"
      ],
      "execution_count": null,
      "outputs": [
        {
          "output_type": "execute_result",
          "data": {
            "application/vnd.google.colaboratory.intrinsic+json": {
              "type": "string"
            },
            "text/plain": [
              "'ชื่อ ขนิษฐา นามสกุล ภูโสภา ID 623021042-5'"
            ]
          },
          "metadata": {
            "tags": []
          },
          "execution_count": 3
        }
      ]
    },
    {
      "cell_type": "code",
      "metadata": {
        "id": "I-hpslLkuq8d"
      },
      "source": [
        "output_string = print_name('ขนิษฐา', 'ภูโสภา', '623021042-5')"
      ],
      "execution_count": null,
      "outputs": []
    },
    {
      "cell_type": "markdown",
      "metadata": {
        "id": "VF_uVNEGuw7f"
      },
      "source": [
        "###ฟังก์ชั่นไม่จำเป็นต้องมี output"
      ]
    },
    {
      "cell_type": "code",
      "metadata": {
        "id": "sCrb2NNTu4dx"
      },
      "source": [
        "def print_name2(surname,ID,name):\r\n",
        "  st=f'ชื่อ {name} นามสกุล {surname} รหัส {ID}'\r\n",
        "  print(st)"
      ],
      "execution_count": null,
      "outputs": []
    },
    {
      "cell_type": "code",
      "metadata": {
        "colab": {
          "base_uri": "https://localhost:8080/"
        },
        "id": "PKz18-PGu8LE",
        "outputId": "716b207e-734e-4c62-88b2-72c23eb75df3"
      },
      "source": [
        "print_name2('ขนิษฐา', 'ภูโสภา', '623021042-5')"
      ],
      "execution_count": null,
      "outputs": [
        {
          "output_type": "stream",
          "text": [
            "ชื่อ 623021042-5 นามสกุล ขนิษฐา รหัส ภูโสภา\n"
          ],
          "name": "stdout"
        }
      ]
    },
    {
      "cell_type": "code",
      "metadata": {
        "colab": {
          "base_uri": "https://localhost:8080/"
        },
        "id": "7Dr1cycsu-IQ",
        "outputId": "5a2154dc-baf7-499e-bbf8-dde75f13b56b"
      },
      "source": [
        "op2=print_name2('ขนิษฐา', 'ภูโสภา', '623021042-5')"
      ],
      "execution_count": null,
      "outputs": [
        {
          "output_type": "stream",
          "text": [
            "ชื่อ 623021042-5 นามสกุล ขนิษฐา รหัส ภูโสภา\n"
          ],
          "name": "stdout"
        }
      ]
    },
    {
      "cell_type": "code",
      "metadata": {
        "colab": {
          "base_uri": "https://localhost:8080/"
        },
        "id": "TWAacmGIvD3N",
        "outputId": "abfd8047-5e2c-4732-bba1-b16d7a2c8857"
      },
      "source": [
        "print(op2)"
      ],
      "execution_count": null,
      "outputs": [
        {
          "output_type": "stream",
          "text": [
            "None\n"
          ],
          "name": "stdout"
        }
      ]
    },
    {
      "cell_type": "markdown",
      "metadata": {
        "id": "R7nkcTfavJBz"
      },
      "source": [
        "###ฟังก์ชั่นไม่จำเป็นต้องมี input"
      ]
    },
    {
      "cell_type": "code",
      "metadata": {
        "id": "THDIwv8YvMGY"
      },
      "source": [
        "def Pi():\r\n",
        "    return 3.14159265359"
      ],
      "execution_count": null,
      "outputs": []
    },
    {
      "cell_type": "code",
      "metadata": {
        "colab": {
          "base_uri": "https://localhost:8080/"
        },
        "id": "hKR1GRk6vX7X",
        "outputId": "4dd02516-169a-4363-846f-9b7e28626b6d"
      },
      "source": [
        "#คำนวณพื้นที่วงกลมที่มีขนาดเส้นผ่านศูนย์กลางเท่ากับ 3\r\n",
        "Pi()*(1.5**2)"
      ],
      "execution_count": null,
      "outputs": [
        {
          "output_type": "execute_result",
          "data": {
            "text/plain": [
              "7.0685834705775"
            ]
          },
          "metadata": {
            "tags": []
          },
          "execution_count": 10
        }
      ]
    },
    {
      "cell_type": "code",
      "metadata": {
        "id": "dv6s7pY9vZRH"
      },
      "source": [
        "def print_my_name():\r\n",
        "    print('ขนิษฐา ภูโสภา IDxxxxxxx')"
      ],
      "execution_count": null,
      "outputs": []
    },
    {
      "cell_type": "code",
      "metadata": {
        "colab": {
          "base_uri": "https://localhost:8080/"
        },
        "id": "wbdlT7kUvfNf",
        "outputId": "c5be2931-3833-49bd-8386-b6061a766186"
      },
      "source": [
        "print_my_name()"
      ],
      "execution_count": null,
      "outputs": [
        {
          "output_type": "stream",
          "text": [
            "ขนิษฐา ภูโสภา IDxxxxxxx\n"
          ],
          "name": "stdout"
        }
      ]
    },
    {
      "cell_type": "markdown",
      "metadata": {
        "id": "8tz-BhAmvm8Z"
      },
      "source": [
        "##1. input ของ function ใน python มีสองแบบ input ที่จำเป็นต้องใส่ กับ input ที่ไม่จำเป็นต้องใส่ (มีค่า default)\r\n",
        "##2. เราต้องเรียง input ที่จำเป็นต้องใส่ขึ้นก่อน"
      ]
    },
    {
      "cell_type": "code",
      "metadata": {
        "id": "Pid1VlPHvwP0"
      },
      "source": [
        "def print_2lines_default(name, surname, ID, grade='F'):\r\n",
        "    st = f'ชื่อ {name} นามสกุล {surname} รหัส {ID}'\r\n",
        "    print(st)\r\n",
        "    st2=f'เกรดวิชา Multivariate >>> {grade}'\r\n",
        "    print(st2)"
      ],
      "execution_count": null,
      "outputs": []
    },
    {
      "cell_type": "code",
      "metadata": {
        "colab": {
          "base_uri": "https://localhost:8080/"
        },
        "id": "DfH_XFwNv7hz",
        "outputId": "abb29e43-1e87-4b55-9c56-4069e44b3e00"
      },
      "source": [
        "print_2lines_default('ขนิษฐา','ภูโสภา','623021042-5')"
      ],
      "execution_count": null,
      "outputs": [
        {
          "output_type": "stream",
          "text": [
            "ชื่อ ขนิษฐา นามสกุล ภูโสภา รหัส 623021042-5\n",
            "เกรดวิชา Multivariate >>> F\n"
          ],
          "name": "stdout"
        }
      ]
    },
    {
      "cell_type": "code",
      "metadata": {
        "colab": {
          "base_uri": "https://localhost:8080/"
        },
        "id": "qte8OiNVv_R7",
        "outputId": "3acc7b15-d83c-49c0-eea3-2e7dde04ccd9"
      },
      "source": [
        "print_2lines_default('ขนิษฐา','ภูโสภา','623021042-5','A')"
      ],
      "execution_count": null,
      "outputs": [
        {
          "output_type": "stream",
          "text": [
            "ชื่อ ขนิษฐา นามสกุล ภูโสภา รหัส 623021042-5\n",
            "เกรดวิชา Multivariate >>> A\n"
          ],
          "name": "stdout"
        }
      ]
    },
    {
      "cell_type": "markdown",
      "metadata": {
        "id": "6m2GlrXcwGYy"
      },
      "source": [
        "###เราสามารถเรียกฟังก์ชั่นโดยใช้ชื่อตัวแปรของฟังก์ชั่นช่วยได้"
      ]
    },
    {
      "cell_type": "code",
      "metadata": {
        "colab": {
          "base_uri": "https://localhost:8080/"
        },
        "id": "f4eMUdC4wLJ-",
        "outputId": "e2254104-5435-4c73-951f-55b6260569dc"
      },
      "source": [
        "print_name2(name='ขนิษฐา', surname='ภูโสภา', ID='623021042-5')"
      ],
      "execution_count": null,
      "outputs": [
        {
          "output_type": "stream",
          "text": [
            "ชื่อ ขนิษฐา นามสกุล ภูโสภา รหัส 623021042-5\n"
          ],
          "name": "stdout"
        }
      ]
    },
    {
      "cell_type": "markdown",
      "metadata": {
        "id": "YBWiVh4YwPIn"
      },
      "source": [
        "HW3 ให้เขียน function คำนวณจำนวนวินาทีจาก เวลาต่อไปนี้\r\n",
        "\r\n",
        "'14-15-31'\r\n",
        "\r\n",
        "'13-00-01'\r\n",
        "\r\n",
        "'05-49-44'\r\n",
        "\r\n",
        "'00-00-16'\r\n",
        "\r\n",
        "และ print ให้สวยงาม"
      ]
    },
    {
      "cell_type": "markdown",
      "metadata": {
        "id": "RDbO7REQ5w1Z"
      },
      "source": [
        "###คำตอบ"
      ]
    },
    {
      "cell_type": "code",
      "metadata": {
        "id": "USqTCpL052Zg"
      },
      "source": [
        "def function_time(time):\r\n",
        "    st = time.split('-')\r\n",
        "    answer = int(st[0]) * 3600 + int(st[1]) * 60 +int(st[2])\r\n",
        "    print(f'เวลา {time} คำนวนเป็นจำนวนวินาทีได้เท่ากับ {answer} วินาที ')"
      ],
      "execution_count": null,
      "outputs": []
    },
    {
      "cell_type": "code",
      "metadata": {
        "id": "I9Kh4pTM6BA6",
        "colab": {
          "base_uri": "https://localhost:8080/"
        },
        "outputId": "cb9814b0-b361-4c3d-987c-482d3166301a"
      },
      "source": [
        "function_time('14-15-31')"
      ],
      "execution_count": null,
      "outputs": [
        {
          "output_type": "stream",
          "text": [
            "เวลา 14-15-31 คำนวนเป็นจำนวนวินาทีได้เท่ากับ 51331 วินาที \n"
          ],
          "name": "stdout"
        }
      ]
    },
    {
      "cell_type": "code",
      "metadata": {
        "id": "UEg914Mr6IhM",
        "colab": {
          "base_uri": "https://localhost:8080/"
        },
        "outputId": "04ec5172-2855-44b4-ba79-3b74ebbcd63d"
      },
      "source": [
        "function_time('13-00-01')"
      ],
      "execution_count": null,
      "outputs": [
        {
          "output_type": "stream",
          "text": [
            "เวลา 13-00-01 คำนวนเป็นจำนวนวินาทีได้เท่ากับ 46801 วินาที \n"
          ],
          "name": "stdout"
        }
      ]
    },
    {
      "cell_type": "code",
      "metadata": {
        "id": "pYG_ASm66Ky6",
        "colab": {
          "base_uri": "https://localhost:8080/"
        },
        "outputId": "e464da62-eaf7-40e3-8f8d-56754678034e"
      },
      "source": [
        "function_time('05-49-44')"
      ],
      "execution_count": null,
      "outputs": [
        {
          "output_type": "stream",
          "text": [
            "เวลา 05-49-44 คำนวนเป็นจำนวนวินาทีได้เท่ากับ 20984 วินาที \n"
          ],
          "name": "stdout"
        }
      ]
    },
    {
      "cell_type": "code",
      "metadata": {
        "id": "TBL9ArOJ6Oqa",
        "colab": {
          "base_uri": "https://localhost:8080/"
        },
        "outputId": "931831cf-5c31-4ce8-f773-54d8445a26ca"
      },
      "source": [
        "function_time('00-00-16')"
      ],
      "execution_count": null,
      "outputs": [
        {
          "output_type": "stream",
          "text": [
            "เวลา 00-00-16 คำนวนเป็นจำนวนวินาทีได้เท่ากับ 16 วินาที \n"
          ],
          "name": "stdout"
        }
      ]
    },
    {
      "cell_type": "markdown",
      "metadata": {
        "id": "n2QYH2-TQoOI"
      },
      "source": [
        "Numpy -> package สำหรับจัดการกับ Array ที่เป็นตัวเลข(Matarix)\n",
        "\n",
        "Num+py->Number-Nummerical+python\n",
        "\n",
        "การใช้ package\n",
        "\n",
        "1. import ชื่อ package #เรียกใช้ package\n",
        "\n",
        "2.ชื่อ package ชื่อฟังก์ชั่น"
      ]
    },
    {
      "cell_type": "markdown",
      "metadata": {
        "id": "U-th7lJ4UIvC"
      },
      "source": [
        "####Shape:(4,)"
      ]
    },
    {
      "cell_type": "markdown",
      "metadata": {
        "id": "iKvrTzz0UTBQ"
      },
      "source": [
        "###สร้าง Array"
      ]
    },
    {
      "cell_type": "code",
      "metadata": {
        "colab": {
          "base_uri": "https://localhost:8080/",
          "height": 189
        },
        "id": "XFtp0XR6UecS",
        "outputId": "4df59ac6-114d-421d-e600-2cb55fef02d2"
      },
      "source": [
        "mat_ex1=Numpy.array([[5.2,3.0,4.5],[9.1,0.1,0.3]])\n",
        "print(mat_ex1)"
      ],
      "execution_count": 2,
      "outputs": [
        {
          "output_type": "error",
          "ename": "NameError",
          "evalue": "ignored",
          "traceback": [
            "\u001b[0;31m---------------------------------------------------------------------------\u001b[0m",
            "\u001b[0;31mNameError\u001b[0m                                 Traceback (most recent call last)",
            "\u001b[0;32m<ipython-input-2-52cace210c59>\u001b[0m in \u001b[0;36m<module>\u001b[0;34m()\u001b[0m\n\u001b[0;32m----> 1\u001b[0;31m \u001b[0mmat_ex1\u001b[0m\u001b[0;34m=\u001b[0m\u001b[0mNumpy\u001b[0m\u001b[0;34m.\u001b[0m\u001b[0marray\u001b[0m\u001b[0;34m(\u001b[0m\u001b[0;34m[\u001b[0m\u001b[0;34m[\u001b[0m\u001b[0;36m5.2\u001b[0m\u001b[0;34m,\u001b[0m\u001b[0;36m3.0\u001b[0m\u001b[0;34m,\u001b[0m\u001b[0;36m4.5\u001b[0m\u001b[0;34m]\u001b[0m\u001b[0;34m,\u001b[0m\u001b[0;34m[\u001b[0m\u001b[0;36m9.1\u001b[0m\u001b[0;34m,\u001b[0m\u001b[0;36m0.1\u001b[0m\u001b[0;34m,\u001b[0m\u001b[0;36m0.3\u001b[0m\u001b[0;34m]\u001b[0m\u001b[0;34m]\u001b[0m\u001b[0;34m)\u001b[0m\u001b[0;34m\u001b[0m\u001b[0;34m\u001b[0m\u001b[0m\n\u001b[0m\u001b[1;32m      2\u001b[0m \u001b[0mprint\u001b[0m\u001b[0;34m(\u001b[0m\u001b[0mmat_ex1\u001b[0m\u001b[0;34m)\u001b[0m\u001b[0;34m\u001b[0m\u001b[0;34m\u001b[0m\u001b[0m\n",
            "\u001b[0;31mNameError\u001b[0m: name 'Numpy' is not defined"
          ]
        }
      ]
    },
    {
      "cell_type": "markdown",
      "metadata": {
        "id": "KNc_vR4dVhz-"
      },
      "source": [
        "ชี้ค่าใน Numpy array"
      ]
    },
    {
      "cell_type": "code",
      "metadata": {
        "colab": {
          "base_uri": "https://localhost:8080/",
          "height": 171
        },
        "id": "23UIrYlUVok1",
        "outputId": "a21fd9ab-6d44-4d5b-915c-f6f1706cdb53"
      },
      "source": [
        "mat_ex1[1,1] #[แถว,หลัก]"
      ],
      "execution_count": 3,
      "outputs": [
        {
          "output_type": "error",
          "ename": "NameError",
          "evalue": "ignored",
          "traceback": [
            "\u001b[0;31m---------------------------------------------------------------------------\u001b[0m",
            "\u001b[0;31mNameError\u001b[0m                                 Traceback (most recent call last)",
            "\u001b[0;32m<ipython-input-3-16147c9bb7a4>\u001b[0m in \u001b[0;36m<module>\u001b[0;34m()\u001b[0m\n\u001b[0;32m----> 1\u001b[0;31m \u001b[0mmat_ex1\u001b[0m\u001b[0;34m[\u001b[0m\u001b[0;36m1\u001b[0m\u001b[0;34m,\u001b[0m\u001b[0;36m1\u001b[0m\u001b[0;34m]\u001b[0m \u001b[0;31m#[แถว,หลัก]\u001b[0m\u001b[0;34m\u001b[0m\u001b[0;34m\u001b[0m\u001b[0m\n\u001b[0m",
            "\u001b[0;31mNameError\u001b[0m: name 'mat_ex1' is not defined"
          ]
        }
      ]
    },
    {
      "cell_type": "markdown",
      "metadata": {
        "id": "pyArx0N4V4qY"
      },
      "source": [
        "ถ้าไม่มี Numpy array"
      ]
    },
    {
      "cell_type": "code",
      "metadata": {
        "colab": {
          "base_uri": "https://localhost:8080/"
        },
        "id": "vHUHsav-V-mT",
        "outputId": "84ee6281-9086-4e12-cf1a-b3a1d73cd84d"
      },
      "source": [
        "list_ex1=[[5.2,3.0,4.5],[9.1,0.1,0.3]]\n",
        "print(list_ex1)"
      ],
      "execution_count": 4,
      "outputs": [
        {
          "output_type": "stream",
          "text": [
            "[[5.2, 3.0, 4.5], [9.1, 0.1, 0.3]]\n"
          ],
          "name": "stdout"
        }
      ]
    },
    {
      "cell_type": "code",
      "metadata": {
        "colab": {
          "base_uri": "https://localhost:8080/"
        },
        "id": "Xd_RyLhyWdyD",
        "outputId": "a0144e92-af7b-4e44-c667-f81787ed0a07"
      },
      "source": [
        "list_ex1[1]"
      ],
      "execution_count": 5,
      "outputs": [
        {
          "output_type": "execute_result",
          "data": {
            "text/plain": [
              "[9.1, 0.1, 0.3]"
            ]
          },
          "metadata": {
            "tags": []
          },
          "execution_count": 5
        }
      ]
    },
    {
      "cell_type": "markdown",
      "metadata": {
        "id": "HLGmEqqxahgE"
      },
      "source": [
        "###ตรวจสอบขนาดของ matrix"
      ]
    },
    {
      "cell_type": "code",
      "metadata": {
        "colab": {
          "base_uri": "https://localhost:8080/",
          "height": 171
        },
        "id": "mT9c_i_BaoR9",
        "outputId": "cd5cf048-0578-4a83-a9fa-1792dff08cda"
      },
      "source": [
        "mat_ex3.shape"
      ],
      "execution_count": 6,
      "outputs": [
        {
          "output_type": "error",
          "ename": "NameError",
          "evalue": "ignored",
          "traceback": [
            "\u001b[0;31m---------------------------------------------------------------------------\u001b[0m",
            "\u001b[0;31mNameError\u001b[0m                                 Traceback (most recent call last)",
            "\u001b[0;32m<ipython-input-6-c54ea9bfdc50>\u001b[0m in \u001b[0;36m<module>\u001b[0;34m()\u001b[0m\n\u001b[0;32m----> 1\u001b[0;31m \u001b[0mmat_ex3\u001b[0m\u001b[0;34m.\u001b[0m\u001b[0mshape\u001b[0m\u001b[0;34m\u001b[0m\u001b[0;34m\u001b[0m\u001b[0m\n\u001b[0m",
            "\u001b[0;31mNameError\u001b[0m: name 'mat_ex3' is not defined"
          ]
        }
      ]
    },
    {
      "cell_type": "code",
      "metadata": {
        "colab": {
          "base_uri": "https://localhost:8080/",
          "height": 171
        },
        "id": "OjUXuAK_avyW",
        "outputId": "7c5908ed-b41a-4a16-c136-91622b63cb8b"
      },
      "source": [
        "mat_ex3.shape"
      ],
      "execution_count": 7,
      "outputs": [
        {
          "output_type": "error",
          "ename": "NameError",
          "evalue": "ignored",
          "traceback": [
            "\u001b[0;31m---------------------------------------------------------------------------\u001b[0m",
            "\u001b[0;31mNameError\u001b[0m                                 Traceback (most recent call last)",
            "\u001b[0;32m<ipython-input-7-c54ea9bfdc50>\u001b[0m in \u001b[0;36m<module>\u001b[0;34m()\u001b[0m\n\u001b[0;32m----> 1\u001b[0;31m \u001b[0mmat_ex3\u001b[0m\u001b[0;34m.\u001b[0m\u001b[0mshape\u001b[0m\u001b[0;34m\u001b[0m\u001b[0;34m\u001b[0m\u001b[0m\n\u001b[0m",
            "\u001b[0;31mNameError\u001b[0m: name 'mat_ex3' is not defined"
          ]
        }
      ]
    },
    {
      "cell_type": "markdown",
      "metadata": {
        "id": "XsAfyf4va--P"
      },
      "source": [
        "คูณ matrix"
      ]
    }
  ]
}