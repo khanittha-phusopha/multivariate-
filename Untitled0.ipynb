{
  "nbformat": 4,
  "nbformat_minor": 0,
  "metadata": {
    "colab": {
      "name": "Untitled0.ipynb",
      "provenance": [],
      "authorship_tag": "ABX9TyNGPSbLqftRItt6POLJevC+",
      "include_colab_link": true
    },
    "kernelspec": {
      "name": "python3",
      "display_name": "Python 3"
    }
  },
  "cells": [
    {
      "cell_type": "markdown",
      "metadata": {
        "id": "view-in-github",
        "colab_type": "text"
      },
      "source": [
        "<a href=\"https://colab.research.google.com/github/khanittha-phusopha/multivariate-/blob/main/Untitled0.ipynb\" target=\"_parent\"><img src=\"https://colab.research.google.com/assets/colab-badge.svg\" alt=\"Open In Colab\"/></a>"
      ]
    },
    {
      "cell_type": "markdown",
      "metadata": {
        "id": "l9H2hFBbtacv"
      },
      "source": [
        "###Function\r\n",
        "def function_name(Input): do_something with Input to produce Output return Output\r\n",
        "\r\n",
        "\r\n",
        "\r\n",
        "[12]\r\n",
        "def print_name(name,surname,ID):\r\n",
        "    st = f'ชื่อ {name} นามสกุล {surname} ID {ID}'\r\n",
        "    return st\r\n",
        "print('outside function')\r\n",
        "outside function\r\n",
        "การเรียกใช้ฟังก์ชั่น\r\n",
        "\r\n",
        "[38]\r\n",
        "print_name('ขนิษฐา', 'ภูโสภา', '623021042-5')\r\n",
        "\r\n",
        "[39]\r\n",
        "output_string = print_name('ขนิษฐา', 'ภูโสภา', '623021042-5')\r\n",
        "print(output_string)\r\n",
        "ชื่อ ขนิษฐา นามสกุล ภูโสภา ID 623021042-5\r\n",
        "ฟังก์ชั่นไม่จำเป็นต้องมี output\r\n",
        "[40]\r\n",
        "def print_name2(surname,ID,name):\r\n",
        "  st=f'ชื่อ {name} นามสกุล {surname} รหัส {ID}'\r\n",
        "  print(st)\r\n",
        "[41]\r\n",
        "print_name2('ขนิษฐา', 'ภูโสภา', '623021042-5')\r\n",
        "ชื่อ 623021042-5 นามสกุล ขนิษฐา รหัส ภูโสภา\r\n",
        "[42]\r\n",
        "op2=print_name2('ขนิษฐา', 'ภูโสภา', '623021042-5')\r\n",
        "ชื่อ 623021042-5 นามสกุล ขนิษฐา รหัส ภูโสภา\r\n",
        "[44]\r\n",
        "print(op2)\r\n",
        "None\r\n",
        "ฟังก์ชั่นไม่จำเป็นต้องมี input\r\n",
        "[26]\r\n",
        "def Pi():\r\n",
        "    return 3.14159265359\r\n",
        "[27]\r\n",
        "#คำนวณพื้นที่วงกลมที่มีขนาดเส้นผ่านศูนย์กลางเท่ากับ 3\r\n",
        "Pi()*(1.5**2)\r\n",
        "7.0685834705775\r\n",
        "[30]\r\n",
        "def print_my_name():\r\n",
        "    print('ขนิษฐา ภูโสภา IDxxxxxxx')\r\n",
        "[31]\r\n",
        "print_my_name()\r\n",
        "ขนิษฐา ภูโสภา IDxxxxxxx\r\n",
        "1. input ของ function ใน python มีสองแบบ input ที่จำเป็นต้องใส่ กับ input ที่ไม่จำเป็นต้องใส่ (มีค่า default)\r\n",
        "2. เราต้องเรียง input ที่จำเป็นต้องใส่ขึ้นก่อน\r\n",
        "[32]\r\n",
        "def print_2lines_default(name, surname, ID, grade='F'):\r\n",
        "    st = f'ชื่อ {name} นามสกุล {surname} รหัส {ID}'\r\n",
        "    print(st)\r\n",
        "    st2=f'เกรดวิชา Multivariate >>> {grade}'\r\n",
        "    print(st2)\r\n",
        "[33]\r\n",
        "print_2lines_default('ขนิษฐา','ภูโสภา','623021042-5')\r\n",
        "ชื่อ ขนิษฐา นามสกุล ภูโสภา รหัส 623021042-5\r\n",
        "เกรดวิชา Multivariate >>> F\r\n",
        "[37]\r\n",
        "print_2lines_default('ขนิษฐา','ภูโสภา','623021042-5','A')\r\n",
        "ชื่อ ภิญญาดา นามสกุล เพ็ญสุข รหัส 623021052-2\r\n",
        "เกรดวิชา Multivariate >>> A\r\n",
        "เราสามารถเรียกฟังก์ชั่นโดยใช้ชื่อตัวแปรของฟังก์ชั่นช่วยได้\r\n",
        "\r\n",
        "[36]\r\n",
        "print_name2(name='ขนิษฐา', surname='ภูโสภา', ID='623021042-5')\r\n",
        "\r\n",
        "HW3 ให้เขียน function คำนวณจำนวนวินาทีจาก เวลาต่อไปนี้\r\n",
        "\r\n",
        "'14-15-31'\r\n",
        "\r\n",
        "'13-00-01'\r\n",
        "\r\n",
        "'05-49-44'\r\n",
        "\r\n",
        "'00-00-16'\r\n",
        "\r\n",
        "และ print ให้สวยงาม"
      ]
    },
    {
      "cell_type": "markdown",
      "metadata": {
        "id": "g3--RMOmtqX2"
      },
      "source": [
        "###function มีส่วนสำคัญทั้งหมด 4 ส่วน\r\n",
        "1.บอก phython ว่าเราจะเขียนฟังก์ชั่น ชื่ออะไร def funtion_name(): (ขาดไม่ได้)\r\n",
        "\r\n",
        "2.กำหนดตัวแปรที่จะเป็น Input Input(ขาดไม่ได้)\r\n",
        "\r\n",
        "3.ส่วนประมวลผล do_something with Input to get Output(ขาดไม่ได้)\r\n",
        "\r\n",
        "4.ส่วน Output Return Output(ขาดได้)\r\n",
        "\r\n",
        "เราใช้ เว้นวรรค (indent) เพื่อบอกขอบเขตของ code\r\n"
      ]
    },
    {
      "cell_type": "code",
      "metadata": {
        "colab": {
          "base_uri": "https://localhost:8080/"
        },
        "id": "khCXhWRLuNIr",
        "outputId": "65ab902b-cfa1-4b42-d5bc-35d680e3815e"
      },
      "source": [
        "def print_name(name,surname,ID):\r\n",
        "    st = f'ชื่อ {name} นามสกุล {surname} ID {ID}'\r\n",
        "    return st\r\n",
        "print('outside function')"
      ],
      "execution_count": 2,
      "outputs": [
        {
          "output_type": "stream",
          "text": [
            "outside function\n"
          ],
          "name": "stdout"
        }
      ]
    },
    {
      "cell_type": "markdown",
      "metadata": {
        "id": "iQHADlZjubnx"
      },
      "source": [
        "การเรียกใช้ฟังก์ชั่น"
      ]
    },
    {
      "cell_type": "code",
      "metadata": {
        "colab": {
          "base_uri": "https://localhost:8080/",
          "height": 34
        },
        "id": "WQ9YHzFUum7C",
        "outputId": "99b02605-922b-488c-f56b-9b35bdefa827"
      },
      "source": [
        "print_name('ขนิษฐา', 'ภูโสภา', '623021042-5')"
      ],
      "execution_count": 3,
      "outputs": [
        {
          "output_type": "execute_result",
          "data": {
            "application/vnd.google.colaboratory.intrinsic+json": {
              "type": "string"
            },
            "text/plain": [
              "'ชื่อ ขนิษฐา นามสกุล ภูโสภา ID 623021042-5'"
            ]
          },
          "metadata": {
            "tags": []
          },
          "execution_count": 3
        }
      ]
    },
    {
      "cell_type": "code",
      "metadata": {
        "id": "I-hpslLkuq8d"
      },
      "source": [
        "output_string = print_name('ขนิษฐา', 'ภูโสภา', '623021042-5')"
      ],
      "execution_count": 4,
      "outputs": []
    },
    {
      "cell_type": "markdown",
      "metadata": {
        "id": "VF_uVNEGuw7f"
      },
      "source": [
        "###ฟังก์ชั่นไม่จำเป็นต้องมี output"
      ]
    },
    {
      "cell_type": "code",
      "metadata": {
        "id": "sCrb2NNTu4dx"
      },
      "source": [
        "def print_name2(surname,ID,name):\r\n",
        "  st=f'ชื่อ {name} นามสกุล {surname} รหัส {ID}'\r\n",
        "  print(st)"
      ],
      "execution_count": 5,
      "outputs": []
    },
    {
      "cell_type": "code",
      "metadata": {
        "colab": {
          "base_uri": "https://localhost:8080/"
        },
        "id": "PKz18-PGu8LE",
        "outputId": "716b207e-734e-4c62-88b2-72c23eb75df3"
      },
      "source": [
        "print_name2('ขนิษฐา', 'ภูโสภา', '623021042-5')"
      ],
      "execution_count": 6,
      "outputs": [
        {
          "output_type": "stream",
          "text": [
            "ชื่อ 623021042-5 นามสกุล ขนิษฐา รหัส ภูโสภา\n"
          ],
          "name": "stdout"
        }
      ]
    },
    {
      "cell_type": "code",
      "metadata": {
        "colab": {
          "base_uri": "https://localhost:8080/"
        },
        "id": "7Dr1cycsu-IQ",
        "outputId": "5a2154dc-baf7-499e-bbf8-dde75f13b56b"
      },
      "source": [
        "op2=print_name2('ขนิษฐา', 'ภูโสภา', '623021042-5')"
      ],
      "execution_count": 7,
      "outputs": [
        {
          "output_type": "stream",
          "text": [
            "ชื่อ 623021042-5 นามสกุล ขนิษฐา รหัส ภูโสภา\n"
          ],
          "name": "stdout"
        }
      ]
    },
    {
      "cell_type": "code",
      "metadata": {
        "colab": {
          "base_uri": "https://localhost:8080/"
        },
        "id": "TWAacmGIvD3N",
        "outputId": "abfd8047-5e2c-4732-bba1-b16d7a2c8857"
      },
      "source": [
        "print(op2)"
      ],
      "execution_count": 8,
      "outputs": [
        {
          "output_type": "stream",
          "text": [
            "None\n"
          ],
          "name": "stdout"
        }
      ]
    },
    {
      "cell_type": "markdown",
      "metadata": {
        "id": "R7nkcTfavJBz"
      },
      "source": [
        "###ฟังก์ชั่นไม่จำเป็นต้องมี input"
      ]
    },
    {
      "cell_type": "code",
      "metadata": {
        "id": "THDIwv8YvMGY"
      },
      "source": [
        "def Pi():\r\n",
        "    return 3.14159265359"
      ],
      "execution_count": 9,
      "outputs": []
    },
    {
      "cell_type": "code",
      "metadata": {
        "colab": {
          "base_uri": "https://localhost:8080/"
        },
        "id": "hKR1GRk6vX7X",
        "outputId": "4dd02516-169a-4363-846f-9b7e28626b6d"
      },
      "source": [
        "#คำนวณพื้นที่วงกลมที่มีขนาดเส้นผ่านศูนย์กลางเท่ากับ 3\r\n",
        "Pi()*(1.5**2)"
      ],
      "execution_count": 10,
      "outputs": [
        {
          "output_type": "execute_result",
          "data": {
            "text/plain": [
              "7.0685834705775"
            ]
          },
          "metadata": {
            "tags": []
          },
          "execution_count": 10
        }
      ]
    },
    {
      "cell_type": "code",
      "metadata": {
        "id": "dv6s7pY9vZRH"
      },
      "source": [
        "def print_my_name():\r\n",
        "    print('ขนิษฐา ภูโสภา IDxxxxxxx')"
      ],
      "execution_count": 11,
      "outputs": []
    },
    {
      "cell_type": "code",
      "metadata": {
        "colab": {
          "base_uri": "https://localhost:8080/"
        },
        "id": "wbdlT7kUvfNf",
        "outputId": "c5be2931-3833-49bd-8386-b6061a766186"
      },
      "source": [
        "print_my_name()"
      ],
      "execution_count": 12,
      "outputs": [
        {
          "output_type": "stream",
          "text": [
            "ขนิษฐา ภูโสภา IDxxxxxxx\n"
          ],
          "name": "stdout"
        }
      ]
    },
    {
      "cell_type": "markdown",
      "metadata": {
        "id": "8tz-BhAmvm8Z"
      },
      "source": [
        "##1. input ของ function ใน python มีสองแบบ input ที่จำเป็นต้องใส่ กับ input ที่ไม่จำเป็นต้องใส่ (มีค่า default)\r\n",
        "##2. เราต้องเรียง input ที่จำเป็นต้องใส่ขึ้นก่อน"
      ]
    },
    {
      "cell_type": "code",
      "metadata": {
        "id": "Pid1VlPHvwP0"
      },
      "source": [
        "def print_2lines_default(name, surname, ID, grade='F'):\r\n",
        "    st = f'ชื่อ {name} นามสกุล {surname} รหัส {ID}'\r\n",
        "    print(st)\r\n",
        "    st2=f'เกรดวิชา Multivariate >>> {grade}'\r\n",
        "    print(st2)"
      ],
      "execution_count": 13,
      "outputs": []
    },
    {
      "cell_type": "code",
      "metadata": {
        "colab": {
          "base_uri": "https://localhost:8080/"
        },
        "id": "DfH_XFwNv7hz",
        "outputId": "abb29e43-1e87-4b55-9c56-4069e44b3e00"
      },
      "source": [
        "print_2lines_default('ขนิษฐา','ภูโสภา','623021042-5')"
      ],
      "execution_count": 14,
      "outputs": [
        {
          "output_type": "stream",
          "text": [
            "ชื่อ ขนิษฐา นามสกุล ภูโสภา รหัส 623021042-5\n",
            "เกรดวิชา Multivariate >>> F\n"
          ],
          "name": "stdout"
        }
      ]
    },
    {
      "cell_type": "code",
      "metadata": {
        "colab": {
          "base_uri": "https://localhost:8080/"
        },
        "id": "qte8OiNVv_R7",
        "outputId": "3acc7b15-d83c-49c0-eea3-2e7dde04ccd9"
      },
      "source": [
        "print_2lines_default('ขนิษฐา','ภูโสภา','623021042-5','A')"
      ],
      "execution_count": 15,
      "outputs": [
        {
          "output_type": "stream",
          "text": [
            "ชื่อ ขนิษฐา นามสกุล ภูโสภา รหัส 623021042-5\n",
            "เกรดวิชา Multivariate >>> A\n"
          ],
          "name": "stdout"
        }
      ]
    },
    {
      "cell_type": "markdown",
      "metadata": {
        "id": "6m2GlrXcwGYy"
      },
      "source": [
        "###เราสามารถเรียกฟังก์ชั่นโดยใช้ชื่อตัวแปรของฟังก์ชั่นช่วยได้"
      ]
    },
    {
      "cell_type": "code",
      "metadata": {
        "colab": {
          "base_uri": "https://localhost:8080/"
        },
        "id": "f4eMUdC4wLJ-",
        "outputId": "e2254104-5435-4c73-951f-55b6260569dc"
      },
      "source": [
        "print_name2(name='ขนิษฐา', surname='ภูโสภา', ID='623021042-5')"
      ],
      "execution_count": 16,
      "outputs": [
        {
          "output_type": "stream",
          "text": [
            "ชื่อ ขนิษฐา นามสกุล ภูโสภา รหัส 623021042-5\n"
          ],
          "name": "stdout"
        }
      ]
    },
    {
      "cell_type": "markdown",
      "metadata": {
        "id": "YBWiVh4YwPIn"
      },
      "source": [
        "HW3 ให้เขียน function คำนวณจำนวนวินาทีจาก เวลาต่อไปนี้\r\n",
        "\r\n",
        "'14-15-31'\r\n",
        "\r\n",
        "'13-00-01'\r\n",
        "\r\n",
        "'05-49-44'\r\n",
        "\r\n",
        "'00-00-16'\r\n",
        "\r\n",
        "และ print ให้สวยงาม"
      ]
    },
    {
      "cell_type": "markdown",
      "metadata": {
        "id": "RDbO7REQ5w1Z"
      },
      "source": [
        "###คำตอบ"
      ]
    },
    {
      "cell_type": "code",
      "metadata": {
        "id": "USqTCpL052Zg"
      },
      "source": [
        "def function_time(time):\r\n",
        "    st = time.split('-')\r\n",
        "    answer = int(st[0]) * 3600 + int(st[1]) * 60 +int(st[2])\r\n",
        "    print(f'เวลา {time} คำนวนเป็นจำนวนวินาทีได้เท่ากับ {answer} วินาที ')"
      ],
      "execution_count": 18,
      "outputs": []
    },
    {
      "cell_type": "code",
      "metadata": {
        "id": "I9Kh4pTM6BA6",
        "outputId": "cb9814b0-b361-4c3d-987c-482d3166301a",
        "colab": {
          "base_uri": "https://localhost:8080/"
        }
      },
      "source": [
        "function_time('14-15-31')"
      ],
      "execution_count": 17,
      "outputs": [
        {
          "output_type": "stream",
          "text": [
            "เวลา 14-15-31 คำนวนเป็นจำนวนวินาทีได้เท่ากับ 51331 วินาที \n"
          ],
          "name": "stdout"
        }
      ]
    },
    {
      "cell_type": "code",
      "metadata": {
        "id": "UEg914Mr6IhM",
        "outputId": "04ec5172-2855-44b4-ba79-3b74ebbcd63d",
        "colab": {
          "base_uri": "https://localhost:8080/"
        }
      },
      "source": [
        "function_time('13-00-01')"
      ],
      "execution_count": 19,
      "outputs": [
        {
          "output_type": "stream",
          "text": [
            "เวลา 13-00-01 คำนวนเป็นจำนวนวินาทีได้เท่ากับ 46801 วินาที \n"
          ],
          "name": "stdout"
        }
      ]
    },
    {
      "cell_type": "code",
      "metadata": {
        "id": "pYG_ASm66Ky6",
        "outputId": "e464da62-eaf7-40e3-8f8d-56754678034e",
        "colab": {
          "base_uri": "https://localhost:8080/"
        }
      },
      "source": [
        "function_time('05-49-44')"
      ],
      "execution_count": 20,
      "outputs": [
        {
          "output_type": "stream",
          "text": [
            "เวลา 05-49-44 คำนวนเป็นจำนวนวินาทีได้เท่ากับ 20984 วินาที \n"
          ],
          "name": "stdout"
        }
      ]
    },
    {
      "cell_type": "code",
      "metadata": {
        "id": "TBL9ArOJ6Oqa",
        "outputId": "931831cf-5c31-4ce8-f773-54d8445a26ca",
        "colab": {
          "base_uri": "https://localhost:8080/"
        }
      },
      "source": [
        "function_time('00-00-16')"
      ],
      "execution_count": 21,
      "outputs": [
        {
          "output_type": "stream",
          "text": [
            "เวลา 00-00-16 คำนวนเป็นจำนวนวินาทีได้เท่ากับ 16 วินาที \n"
          ],
          "name": "stdout"
        }
      ]
    }
  ]
}