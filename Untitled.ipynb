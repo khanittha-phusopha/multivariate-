{
  "nbformat": 4,
  "nbformat_minor": 0,
  "metadata": {
    "colab": {
      "name": "Untitled",
      "provenance": [],
      "include_colab_link": true
    },
    "kernelspec": {
      "name": "python3",
      "display_name": "Python 3"
    }
  },
  "cells": [
    {
      "cell_type": "markdown",
      "metadata": {
        "id": "view-in-github",
        "colab_type": "text"
      },
      "source": [
        "<a href=\"https://colab.research.google.com/github/khanittha-phusopha/multivariate-/blob/main/Untitled.ipynb\" target=\"_parent\"><img src=\"https://colab.research.google.com/assets/colab-badge.svg\" alt=\"Open In Colab\"/></a>"
      ]
    },
    {
      "cell_type": "code",
      "metadata": {
        "id": "Lu_KFvNKM0dt"
      },
      "source": [
        ""
      ],
      "execution_count": null,
      "outputs": []
    },
    {
      "cell_type": "markdown",
      "metadata": {
        "id": "1aPAm_EENEC7"
      },
      "source": [
        "#หลักการตั้งชื่อตัวแปร\n",
        "1.ตั้งให้สื่อ\n",
        "\n",
        "2.ภาษาอังกฤษ\n",
        "\n",
        "3.ใช้ตัวเลขได้แต่ไม่ใช้ตัวเลขนำหน้า\n",
        "\n",
        "4.ห้ามเว้นวรรค\n",
        "\n",
        "5.ตัวเล็กตัวใหญ่ไม่เหมือนกัน\n",
        "\n",
        "มี output 2mode:ออกหน้าจอกับเข้าไปเก็บในตัวแปร"
      ]
    },
    {
      "cell_type": "code",
      "metadata": {
        "colab": {
          "base_uri": "https://localhost:8080/"
        },
        "id": "NDxlXecVN0kT",
        "outputId": "165fe54f-8fac-483e-f126-b14fa4225bd1"
      },
      "source": [
        "3.14159"
      ],
      "execution_count": 45,
      "outputs": [
        {
          "output_type": "execute_result",
          "data": {
            "text/plain": [
              "3.14159"
            ]
          },
          "metadata": {
            "tags": []
          },
          "execution_count": 45
        }
      ]
    },
    {
      "cell_type": "code",
      "metadata": {
        "id": "xh0Ra6-xN7sZ"
      },
      "source": [
        "pi=3.14159"
      ],
      "execution_count": 46,
      "outputs": []
    },
    {
      "cell_type": "code",
      "metadata": {
        "colab": {
          "base_uri": "https://localhost:8080/"
        },
        "id": "-qWtL9MIODMV",
        "outputId": "afa9585e-14ad-4f3e-fa32-e56265572464"
      },
      "source": [
        "pi"
      ],
      "execution_count": null,
      "outputs": [
        {
          "output_type": "execute_result",
          "data": {
            "text/plain": [
              "3.14159"
            ]
          },
          "metadata": {
            "tags": []
          },
          "execution_count": 8
        }
      ]
    },
    {
      "cell_type": "code",
      "metadata": {
        "colab": {
          "base_uri": "https://localhost:8080/"
        },
        "id": "3i2rBrCCOGC_",
        "outputId": "be9cbc28-4ffe-4f68-c9bf-72efb3ada76a"
      },
      "source": [
        "a=1234567\n",
        "print(a)\n"
      ],
      "execution_count": null,
      "outputs": [
        {
          "output_type": "stream",
          "text": [
            "1234567\n"
          ],
          "name": "stdout"
        }
      ]
    },
    {
      "cell_type": "markdown",
      "metadata": {
        "id": "7FlAz8h7OboA"
      },
      "source": [
        "#ชนิดของตัวแปร 3 ชนิด"
      ]
    },
    {
      "cell_type": "markdown",
      "metadata": {
        "id": "eOFSjc9GOoXJ"
      },
      "source": [
        "#จำนวนเต็ม (integer,int)"
      ]
    },
    {
      "cell_type": "code",
      "metadata": {
        "colab": {
          "base_uri": "https://localhost:8080/"
        },
        "id": "UZHr53-TO2gY",
        "outputId": "318fb303-c054-429d-cded-344009a70d86"
      },
      "source": [
        "aaa=1092\n",
        "print(aaa)"
      ],
      "execution_count": null,
      "outputs": [
        {
          "output_type": "stream",
          "text": [
            "1092\n"
          ],
          "name": "stdout"
        }
      ]
    },
    {
      "cell_type": "markdown",
      "metadata": {
        "id": "_Wr7K3QMPIVH"
      },
      "source": [
        "#จำนวนจริง(float)"
      ]
    },
    {
      "cell_type": "code",
      "metadata": {
        "colab": {
          "base_uri": "https://localhost:8080/"
        },
        "id": "hYV5pxLoPVNR",
        "outputId": "9462fc24-ed3c-441e-b5e1-c53d62d6e479"
      },
      "source": [
        "bbb=11.\n",
        "print(bbb)"
      ],
      "execution_count": null,
      "outputs": [
        {
          "output_type": "stream",
          "text": [
            "11.0\n"
          ],
          "name": "stdout"
        }
      ]
    },
    {
      "cell_type": "markdown",
      "metadata": {
        "id": "P2FG2vrlPfu9"
      },
      "source": [
        "#ตัวอักษร ข้อความ(character และ text,string)"
      ]
    },
    {
      "cell_type": "code",
      "metadata": {
        "colab": {
          "base_uri": "https://localhost:8080/"
        },
        "id": "Te8_AE5rPz0W",
        "outputId": "79174c95-8909-48c3-a5bb-2714151803f9"
      },
      "source": [
        "ccc='123456' #เราใช้ single ' หรือ double quote \" ล้อมรอบตัวหนังสือเพื่อระบุว่าเป็น character-string\n",
        "print(ccc)"
      ],
      "execution_count": null,
      "outputs": [
        {
          "output_type": "stream",
          "text": [
            "123456\n"
          ],
          "name": "stdout"
        }
      ]
    },
    {
      "cell_type": "code",
      "metadata": {
        "colab": {
          "base_uri": "https://localhost:8080/"
        },
        "id": "nm12WFt7QlLM",
        "outputId": "c794f601-b210-415f-ed65-62f6efe22432"
      },
      "source": [
        "aaa+bbb #flot + int =flot"
      ],
      "execution_count": null,
      "outputs": [
        {
          "output_type": "execute_result",
          "data": {
            "text/plain": [
              "1103.0"
            ]
          },
          "metadata": {
            "tags": []
          },
          "execution_count": 13
        }
      ]
    },
    {
      "cell_type": "code",
      "metadata": {
        "colab": {
          "base_uri": "https://localhost:8080/",
          "height": 171
        },
        "id": "wWVNSfwNRCkZ",
        "outputId": "f1901684-9811-4382-d065-30674d62b712"
      },
      "source": [
        "bbb+ccc"
      ],
      "execution_count": null,
      "outputs": [
        {
          "output_type": "error",
          "ename": "TypeError",
          "evalue": "ignored",
          "traceback": [
            "\u001b[0;31m---------------------------------------------------------------------------\u001b[0m",
            "\u001b[0;31mTypeError\u001b[0m                                 Traceback (most recent call last)",
            "\u001b[0;32m<ipython-input-14-c95aa0bdc4a5>\u001b[0m in \u001b[0;36m<module>\u001b[0;34m()\u001b[0m\n\u001b[0;32m----> 1\u001b[0;31m \u001b[0mbbb\u001b[0m\u001b[0;34m+\u001b[0m\u001b[0mccc\u001b[0m\u001b[0;34m\u001b[0m\u001b[0;34m\u001b[0m\u001b[0m\n\u001b[0m",
            "\u001b[0;31mTypeError\u001b[0m: unsupported operand type(s) for +: 'float' and 'str'"
          ]
        }
      ]
    },
    {
      "cell_type": "code",
      "metadata": {
        "colab": {
          "base_uri": "https://localhost:8080/"
        },
        "id": "9hpYj1zPRWUU",
        "outputId": "3671a741-6366-4961-9ef2-aac59e64a56d"
      },
      "source": [
        "ddd='ธนพงศ์'\n",
        "print(ddd)"
      ],
      "execution_count": null,
      "outputs": [
        {
          "output_type": "stream",
          "text": [
            "ธนพงศ์\n"
          ],
          "name": "stdout"
        }
      ]
    },
    {
      "cell_type": "markdown",
      "metadata": {
        "id": "6SxNmc6RRfq9"
      },
      "source": [
        "#การเปลี่ยนชนิดของตัวแปร variable casting"
      ]
    },
    {
      "cell_type": "code",
      "metadata": {
        "colab": {
          "base_uri": "https://localhost:8080/"
        },
        "id": "1GvZgTH3RqA4",
        "outputId": "5cabeb93-47a1-4000-bcdd-2d47fbad3e14"
      },
      "source": [
        "aaa+int(ccc)"
      ],
      "execution_count": null,
      "outputs": [
        {
          "output_type": "execute_result",
          "data": {
            "text/plain": [
              "124548"
            ]
          },
          "metadata": {
            "tags": []
          },
          "execution_count": 16
        }
      ]
    },
    {
      "cell_type": "code",
      "metadata": {
        "colab": {
          "base_uri": "https://localhost:8080/"
        },
        "id": "cqyZ4Tp9RvE7",
        "outputId": "c826ce8d-8536-4254-ac4d-fd25bddaf8b9"
      },
      "source": [
        "aaa+float(ccc)"
      ],
      "execution_count": null,
      "outputs": [
        {
          "output_type": "execute_result",
          "data": {
            "text/plain": [
              "124548.0"
            ]
          },
          "metadata": {
            "tags": []
          },
          "execution_count": 17
        }
      ]
    },
    {
      "cell_type": "code",
      "metadata": {
        "colab": {
          "base_uri": "https://localhost:8080/",
          "height": 38
        },
        "id": "mwoqDYNUR2hK",
        "outputId": "0d62fbc4-6b89-44fe-ad9f-d206a95ae500"
      },
      "source": [
        "str(aaa)"
      ],
      "execution_count": null,
      "outputs": [
        {
          "output_type": "execute_result",
          "data": {
            "application/vnd.google.colaboratory.intrinsic+json": {
              "type": "string"
            },
            "text/plain": [
              "'1092'"
            ]
          },
          "metadata": {
            "tags": []
          },
          "execution_count": 18
        }
      ]
    },
    {
      "cell_type": "markdown",
      "metadata": {
        "id": "EFT7usMESKq3"
      },
      "source": [
        "#การดำเนินการ Operation (Operation \n"
      ]
    },
    {
      "cell_type": "code",
      "metadata": {
        "colab": {
          "base_uri": "https://localhost:8080/",
          "height": 171
        },
        "id": "amAH131bS6R9",
        "outputId": "d8bd6e7e-ccfc-4494-8cf8-2c0bface42ea"
      },
      "source": [
        "a+b"
      ],
      "execution_count": null,
      "outputs": [
        {
          "output_type": "error",
          "ename": "NameError",
          "evalue": "ignored",
          "traceback": [
            "\u001b[0;31m---------------------------------------------------------------------------\u001b[0m",
            "\u001b[0;31mNameError\u001b[0m                                 Traceback (most recent call last)",
            "\u001b[0;32m<ipython-input-19-ca730b97bf8a>\u001b[0m in \u001b[0;36m<module>\u001b[0;34m()\u001b[0m\n\u001b[0;32m----> 1\u001b[0;31m \u001b[0ma\u001b[0m\u001b[0;34m+\u001b[0m\u001b[0mb\u001b[0m\u001b[0;34m\u001b[0m\u001b[0;34m\u001b[0m\u001b[0m\n\u001b[0m",
            "\u001b[0;31mNameError\u001b[0m: name 'b' is not defined"
          ]
        }
      ]
    },
    {
      "cell_type": "code",
      "metadata": {
        "id": "6aFAtZjbTD4R",
        "colab": {
          "base_uri": "https://localhost:8080/"
        },
        "outputId": "fb3314ea-0d15-4a90-e51d-6f1a7c2f942b"
      },
      "source": [
        "aaa+bbb"
      ],
      "execution_count": null,
      "outputs": [
        {
          "output_type": "execute_result",
          "data": {
            "text/plain": [
              "1103.0"
            ]
          },
          "metadata": {
            "tags": []
          },
          "execution_count": 20
        }
      ]
    },
    {
      "cell_type": "code",
      "metadata": {
        "colab": {
          "base_uri": "https://localhost:8080/"
        },
        "id": "xs8OCb2dTNZa",
        "outputId": "b678b935-e5c1-47cc-eed9-51f0860504d3"
      },
      "source": [
        "aaa-bbb"
      ],
      "execution_count": null,
      "outputs": [
        {
          "output_type": "execute_result",
          "data": {
            "text/plain": [
              "1081.0"
            ]
          },
          "metadata": {
            "tags": []
          },
          "execution_count": 21
        }
      ]
    },
    {
      "cell_type": "code",
      "metadata": {
        "colab": {
          "base_uri": "https://localhost:8080/"
        },
        "id": "K9CHafGUXR0e",
        "outputId": "e884e620-4feb-42d5-98a6-422e096d2633"
      },
      "source": [
        "ab=aaa*bbb\n",
        "print(ab)"
      ],
      "execution_count": null,
      "outputs": [
        {
          "output_type": "stream",
          "text": [
            "12012.0\n"
          ],
          "name": "stdout"
        }
      ]
    },
    {
      "cell_type": "code",
      "metadata": {
        "colab": {
          "base_uri": "https://localhost:8080/"
        },
        "id": "UxzexNbSXqQP",
        "outputId": "0fc95fa7-b9cd-440f-e122-2ef6354d2713"
      },
      "source": [
        "ab+ int(ccc)"
      ],
      "execution_count": null,
      "outputs": [
        {
          "output_type": "execute_result",
          "data": {
            "text/plain": [
              "135468.0"
            ]
          },
          "metadata": {
            "tags": []
          },
          "execution_count": 25
        }
      ]
    },
    {
      "cell_type": "markdown",
      "metadata": {
        "id": "8DkotelpXxkr"
      },
      "source": [
        "#%คือหมายถึง modulo"
      ]
    },
    {
      "cell_type": "code",
      "metadata": {
        "colab": {
          "base_uri": "https://localhost:8080/"
        },
        "id": "MSH9m-ppX-vk",
        "outputId": "2f57ca00-3fb6-4c5e-9171-81944ca389f5"
      },
      "source": [
        "5%3"
      ],
      "execution_count": null,
      "outputs": [
        {
          "output_type": "execute_result",
          "data": {
            "text/plain": [
              "2"
            ]
          },
          "metadata": {
            "tags": []
          },
          "execution_count": 26
        }
      ]
    },
    {
      "cell_type": "code",
      "metadata": {
        "colab": {
          "base_uri": "https://localhost:8080/"
        },
        "id": "IFhXJO8SYDZd",
        "outputId": "a95accbc-ddb5-497c-c635-a146f0fd12d3"
      },
      "source": [
        "7%3"
      ],
      "execution_count": null,
      "outputs": [
        {
          "output_type": "execute_result",
          "data": {
            "text/plain": [
              "1"
            ]
          },
          "metadata": {
            "tags": []
          },
          "execution_count": 27
        }
      ]
    },
    {
      "cell_type": "markdown",
      "metadata": {
        "id": "qvJ6nQTPYSJq"
      },
      "source": [
        "##คำสั่ง print แบบพิเศษ (การ format string)"
      ]
    },
    {
      "cell_type": "code",
      "metadata": {
        "colab": {
          "base_uri": "https://localhost:8080/"
        },
        "id": "EacY7KeCYmS2",
        "outputId": "f0034846-4e61-40be-8f13-ff55a04c3ca3"
      },
      "source": [
        "print('ตัวแปร') #สิ่งที่อยู่ข้างในวงเล็บคือ ตัวแปร และstring"
      ],
      "execution_count": null,
      "outputs": [
        {
          "output_type": "stream",
          "text": [
            "ตัวแปร\n"
          ],
          "name": "stdout"
        }
      ]
    },
    {
      "cell_type": "code",
      "metadata": {
        "colab": {
          "base_uri": "https://localhost:8080/"
        },
        "id": "YdOuDErgY02w",
        "outputId": "8ab019ea-84b1-44d7-ac14-a668143e8688"
      },
      "source": [
        "print(f'%คือการหารเอาเศษ เช่น 7%3 = {7%3}')#เพิ่ม f หน้า 'string' และใช้ {} ใส่ code"
      ],
      "execution_count": null,
      "outputs": [
        {
          "output_type": "stream",
          "text": [
            "%คือการหารเอาเศษ เช่น 7%3 = 1\n"
          ],
          "name": "stdout"
        }
      ]
    },
    {
      "cell_type": "code",
      "metadata": {
        "colab": {
          "base_uri": "https://localhost:8080/"
        },
        "id": "2DOhzjdEZfsL",
        "outputId": "73b5e78e-9aa3-46f0-d3e3-0ac4ffcb0a25"
      },
      "source": [
        "print(f'%คือการหารเอาเศษ เช่น 7%3={7%3}\\\\\n",
        "       แต่\\n/คือการหารปกติ เช่น 7/3={7/3}\\\\\n",
        "       และ\\n//คือการหารเอาส่วน เช่น 7/3={7//3} \\\\\n",
        "หรือ\\nใช้ int() เพื่อหารเอาส่วน เช่น int(7/3)={int(7/3)}') #\\n คือการขึ้นบรรทัดใหม่ \\\\ ใช้ในการตัด code\n"
      ],
      "execution_count": null,
      "outputs": [
        {
          "output_type": "stream",
          "text": [
            "%คือการหารเอาเศษ เช่น 7%3=1\\       แต่\n",
            "/คือการหารปกติ เช่น 7/3=2.3333333333333335\\       และ\n",
            "//คือการหารเอาส่วน เช่น 7/3=2 \\หรือ\n",
            "ใช้ int() เพื่อหารเอาส่วน เช่น int(7/3)=2\n"
          ],
          "name": "stdout"
        }
      ]
    },
    {
      "cell_type": "markdown",
      "metadata": {
        "id": "fEiSBmjJbnq0"
      },
      "source": [
        "#DATA STRUCTURE(โครงสร้างข้อมูล)"
      ]
    },
    {
      "cell_type": "markdown",
      "metadata": {
        "id": "cW_2Qx9Qb0Re"
      },
      "source": [
        "### List คือ การเอาข้อมูลหลายๆตัวมาเรียงต่อกัน\n",
        "#### List คือ สารมารถสร้างได้ 2 แบบ ดังนี้"
      ]
    },
    {
      "cell_type": "markdown",
      "metadata": {
        "id": "N9ZC4kENcZfJ"
      },
      "source": [
        "###แบบที่1>square brackets"
      ]
    },
    {
      "cell_type": "markdown",
      "metadata": {
        "id": "DloCU1V0jXJv"
      },
      "source": [
        ""
      ]
    },
    {
      "cell_type": "code",
      "metadata": {
        "colab": {
          "base_uri": "https://localhost:8080/"
        },
        "id": "OwvnEdwzdJxp",
        "outputId": "0726e7ec-24d5-4b9c-8195-50ee7e57a9e7"
      },
      "source": [
        "list_a = []\n",
        "print(list_a)"
      ],
      "execution_count": 50,
      "outputs": [
        {
          "output_type": "stream",
          "text": [
            "[]\n"
          ],
          "name": "stdout"
        }
      ]
    },
    {
      "cell_type": "code",
      "metadata": {
        "colab": {
          "base_uri": "https://localhost:8080/"
        },
        "id": "sOFP--dYdaNu",
        "outputId": "bac1f4c4-e97e-4029-f165-afec2f76c87b"
      },
      "source": [
        "list_b=[5 ,'c','สวย',aaa]\n",
        "print(list_b)"
      ],
      "execution_count": 51,
      "outputs": [
        {
          "output_type": "stream",
          "text": [
            "[5, 'c', 'สวย', 1092]\n"
          ],
          "name": "stdout"
        }
      ]
    },
    {
      "cell_type": "markdown",
      "metadata": {
        "id": "NbEAX0VBdnrA"
      },
      "source": [
        "###ลำดับที่อยู่ใน list มีความสำคัญ(ลำดับใน list เริ่มจาก 0,1,2,...)"
      ]
    },
    {
      "cell_type": "code",
      "metadata": {
        "colab": {
          "base_uri": "https://localhost:8080/",
          "height": 38
        },
        "id": "rtM0NRkMfn6s",
        "outputId": "e630dfaf-0c3d-45bb-94f3-a1f5aefa1360"
      },
      "source": [
        "list_b[2]"
      ],
      "execution_count": 47,
      "outputs": [
        {
          "output_type": "execute_result",
          "data": {
            "application/vnd.google.colaboratory.intrinsic+json": {
              "type": "string"
            },
            "text/plain": [
              "'สวย'"
            ]
          },
          "metadata": {
            "tags": []
          },
          "execution_count": 47
        }
      ]
    },
    {
      "cell_type": "code",
      "metadata": {
        "colab": {
          "base_uri": "https://localhost:8080/"
        },
        "id": "DuZ9NWQOgZoF",
        "outputId": "57b5f61c-f942-47f1-b9c6-be4c30132e8d"
      },
      "source": [
        "list_b[3]"
      ],
      "execution_count": 48,
      "outputs": [
        {
          "output_type": "execute_result",
          "data": {
            "text/plain": [
              "1092"
            ]
          },
          "metadata": {
            "tags": []
          },
          "execution_count": 48
        }
      ]
    },
    {
      "cell_type": "code",
      "metadata": {
        "colab": {
          "base_uri": "https://localhost:8080/"
        },
        "id": "p2BuZeipggv_",
        "outputId": "0341096b-e5be-4673-8b9d-2d978a3625ea"
      },
      "source": [
        "list_b[0]"
      ],
      "execution_count": 49,
      "outputs": [
        {
          "output_type": "execute_result",
          "data": {
            "text/plain": [
              "5"
            ]
          },
          "metadata": {
            "tags": []
          },
          "execution_count": 49
        }
      ]
    },
    {
      "cell_type": "markdown",
      "metadata": {
        "id": "sILQQnVngrjc"
      },
      "source": [
        "###แบบที่2"
      ]
    },
    {
      "cell_type": "code",
      "metadata": {
        "colab": {
          "base_uri": "https://localhost:8080/"
        },
        "id": "ByxpCiZ6gyw8",
        "outputId": "0980d661-7b54-4434-9656-375c13af7266"
      },
      "source": [
        "list_c=list()\n",
        "print(list_c)"
      ],
      "execution_count": null,
      "outputs": [
        {
          "output_type": "stream",
          "text": [
            "[]\n"
          ],
          "name": "stdout"
        }
      ]
    },
    {
      "cell_type": "markdown",
      "metadata": {
        "id": "flsIzK-HhZT_"
      },
      "source": [
        "###append()เพิ่มสมาชิก list"
      ]
    },
    {
      "cell_type": "code",
      "metadata": {
        "colab": {
          "base_uri": "https://localhost:8080/"
        },
        "id": "nhkmkJllhlwD",
        "outputId": "8fefef48-43dc-4822-b350-a0c80f8b0566"
      },
      "source": [
        "list_b.append('u')\n",
        "print(list_b)"
      ],
      "execution_count": null,
      "outputs": [
        {
          "output_type": "stream",
          "text": [
            "[5, 'c', 'สวย', 1092, 'u']\n"
          ],
          "name": "stdout"
        }
      ]
    },
    {
      "cell_type": "markdown",
      "metadata": {
        "id": "e7uvnwX0iiYz"
      },
      "source": [
        "##0คือสมาชิกตัวแรก,-1คือสมาชิกตัวสุดท้าย"
      ]
    },
    {
      "cell_type": "code",
      "metadata": {
        "colab": {
          "base_uri": "https://localhost:8080/"
        },
        "id": "n5Ro7X4wh0b1",
        "outputId": "bcd2d928-6837-4ede-d0da-8de4f9f4f86c"
      },
      "source": [
        "list_b[-1] #ตัวที่อยู่ในวงเล็บหลังจากตัวแปร listเรียกว่า indexใช้สำหรับชี้ข้อมูลใน list (ชี้จากข้างหน้า,ชี้จากข้างหลัง)"
      ],
      "execution_count": 52,
      "outputs": [
        {
          "output_type": "execute_result",
          "data": {
            "text/plain": [
              "1092"
            ]
          },
          "metadata": {
            "tags": []
          },
          "execution_count": 52
        }
      ]
    },
    {
      "cell_type": "markdown",
      "metadata": {
        "id": "44fHd59YjT1v"
      },
      "source": [
        "###String > list of characters"
      ]
    },
    {
      "cell_type": "code",
      "metadata": {
        "colab": {
          "base_uri": "https://localhost:8080/"
        },
        "id": "sJ_lZOR9jc-z",
        "outputId": "d6758d7a-be49-4907-fe0e-3977128c645f"
      },
      "source": [
        "t='python is easy'\n",
        "print(t)"
      ],
      "execution_count": 61,
      "outputs": [
        {
          "output_type": "stream",
          "text": [
            "python is easy\n"
          ],
          "name": "stdout"
        }
      ]
    },
    {
      "cell_type": "code",
      "metadata": {
        "colab": {
          "base_uri": "https://localhost:8080/",
          "height": 38
        },
        "id": "A-Ac_qlFjpHR",
        "outputId": "139ea1ae-2fe9-43a0-a689-d3a8fc36196c"
      },
      "source": [
        "t[1]"
      ],
      "execution_count": 62,
      "outputs": [
        {
          "output_type": "execute_result",
          "data": {
            "application/vnd.google.colaboratory.intrinsic+json": {
              "type": "string"
            },
            "text/plain": [
              "'y'"
            ]
          },
          "metadata": {
            "tags": []
          },
          "execution_count": 62
        }
      ]
    },
    {
      "cell_type": "code",
      "metadata": {
        "colab": {
          "base_uri": "https://localhost:8080/",
          "height": 38
        },
        "id": "EFXSvRGTjsIe",
        "outputId": "8bb9425c-bb89-4257-e34a-d5e2e91016b2"
      },
      "source": [
        "t[2]"
      ],
      "execution_count": 63,
      "outputs": [
        {
          "output_type": "execute_result",
          "data": {
            "application/vnd.google.colaboratory.intrinsic+json": {
              "type": "string"
            },
            "text/plain": [
              "'t'"
            ]
          },
          "metadata": {
            "tags": []
          },
          "execution_count": 63
        }
      ]
    },
    {
      "cell_type": "code",
      "metadata": {
        "colab": {
          "base_uri": "https://localhost:8080/",
          "height": 38
        },
        "id": "9GXy-qE1j5Cd",
        "outputId": "dac8e441-4fa6-4a10-ceae-a628e98f2d13"
      },
      "source": [
        "t[-4]"
      ],
      "execution_count": 64,
      "outputs": [
        {
          "output_type": "execute_result",
          "data": {
            "application/vnd.google.colaboratory.intrinsic+json": {
              "type": "string"
            },
            "text/plain": [
              "'e'"
            ]
          },
          "metadata": {
            "tags": []
          },
          "execution_count": 64
        }
      ]
    },
    {
      "cell_type": "code",
      "metadata": {
        "colab": {
          "base_uri": "https://localhost:8080/",
          "height": 38
        },
        "id": "SsNFJTxRj9Gu",
        "outputId": "0e57f9e4-082c-4c03-e8d3-0d5dc29b12ef"
      },
      "source": [
        "t[-10]"
      ],
      "execution_count": 65,
      "outputs": [
        {
          "output_type": "execute_result",
          "data": {
            "application/vnd.google.colaboratory.intrinsic+json": {
              "type": "string"
            },
            "text/plain": [
              "'o'"
            ]
          },
          "metadata": {
            "tags": []
          },
          "execution_count": 65
        }
      ]
    },
    {
      "cell_type": "code",
      "metadata": {
        "colab": {
          "base_uri": "https://localhost:8080/",
          "height": 38
        },
        "id": "T6l2zbhjkxyD",
        "outputId": "e2f27700-1aac-4e99-dcc9-29b002447e70"
      },
      "source": [
        "t[13]"
      ],
      "execution_count": 66,
      "outputs": [
        {
          "output_type": "execute_result",
          "data": {
            "application/vnd.google.colaboratory.intrinsic+json": {
              "type": "string"
            },
            "text/plain": [
              "'y'"
            ]
          },
          "metadata": {
            "tags": []
          },
          "execution_count": 66
        }
      ]
    },
    {
      "cell_type": "code",
      "metadata": {
        "colab": {
          "base_uri": "https://localhost:8080/",
          "height": 38
        },
        "id": "YY5Ibm26kA52",
        "outputId": "f79364cf-121a-4c8f-dc35-ac5338a45628"
      },
      "source": [
        "t[10]"
      ],
      "execution_count": 67,
      "outputs": [
        {
          "output_type": "execute_result",
          "data": {
            "application/vnd.google.colaboratory.intrinsic+json": {
              "type": "string"
            },
            "text/plain": [
              "'e'"
            ]
          },
          "metadata": {
            "tags": []
          },
          "execution_count": 67
        }
      ]
    },
    {
      "cell_type": "code",
      "metadata": {
        "colab": {
          "base_uri": "https://localhost:8080/",
          "height": 38
        },
        "id": "uw-sw4SCkTB1",
        "outputId": "7d3c0f03-f9cf-411b-e819-4ff625e8e5c7"
      },
      "source": [
        "t[6] #การเคาะแป้นพิมพ์ 1 ครั้ง = 1 ลำดับ ดังนั้นลำดับที่ 6 จึงเป็น ''"
      ],
      "execution_count": 68,
      "outputs": [
        {
          "output_type": "execute_result",
          "data": {
            "application/vnd.google.colaboratory.intrinsic+json": {
              "type": "string"
            },
            "text/plain": [
              "' '"
            ]
          },
          "metadata": {
            "tags": []
          },
          "execution_count": 68
        }
      ]
    },
    {
      "cell_type": "markdown",
      "metadata": {
        "id": "vjA56I-sja2U"
      },
      "source": [
        "###คาบที่3 มค.2021"
      ]
    },
    {
      "cell_type": "code",
      "metadata": {
        "id": "5q1Aq7ecjj-_",
        "outputId": "010d5fcd-3b50-4feb-cfb0-c5b136d43067",
        "colab": {
          "base_uri": "https://localhost:8080/"
        }
      },
      "source": [
        "len(t)"
      ],
      "execution_count": 69,
      "outputs": [
        {
          "output_type": "execute_result",
          "data": {
            "text/plain": [
              "14"
            ]
          },
          "metadata": {
            "tags": []
          },
          "execution_count": 69
        }
      ]
    },
    {
      "cell_type": "markdown",
      "metadata": {
        "id": "e2ctUAhcoVD-"
      },
      "source": [
        "### quiz\n",
        "ให้ใช้ list slicing เลือกมาเฉพาะเลขคู่"
      ]
    },
    {
      "cell_type": "markdown",
      "metadata": {
        "id": "WJP2YE0xt5fN"
      },
      "source": [
        "การแบ่ง string ตามสัญลักษณ์ที่กำหนด ->split string"
      ]
    },
    {
      "cell_type": "code",
      "metadata": {
        "id": "6XPmHwVbuHkq",
        "outputId": "45aec6ed-6b87-48ac-a33e-7344d5b5bad1",
        "colab": {
          "base_uri": "https://localhost:8080/",
          "height": 38
        }
      },
      "source": [
        "t"
      ],
      "execution_count": 70,
      "outputs": [
        {
          "output_type": "execute_result",
          "data": {
            "application/vnd.google.colaboratory.intrinsic+json": {
              "type": "string"
            },
            "text/plain": [
              "'python is easy'"
            ]
          },
          "metadata": {
            "tags": []
          },
          "execution_count": 70
        }
      ]
    },
    {
      "cell_type": "code",
      "metadata": {
        "id": "mtiECCAAuLRh",
        "outputId": "8f83359a-34a9-4451-8e42-91a757a7fbfe",
        "colab": {
          "base_uri": "https://localhost:8080/"
        }
      },
      "source": [
        "t.split(' ')"
      ],
      "execution_count": 71,
      "outputs": [
        {
          "output_type": "execute_result",
          "data": {
            "text/plain": [
              "['python', 'is', 'easy']"
            ]
          },
          "metadata": {
            "tags": []
          },
          "execution_count": 71
        }
      ]
    },
    {
      "cell_type": "code",
      "metadata": {
        "id": "eXe3zFrjupjl"
      },
      "source": [
        "time = \"12:30:15\""
      ],
      "execution_count": 74,
      "outputs": []
    },
    {
      "cell_type": "code",
      "metadata": {
        "id": "E2vlcN36u638",
        "outputId": "31f723de-7cb7-4be5-e75d-eebb70da71bb",
        "colab": {
          "base_uri": "https://localhost:8080/"
        }
      },
      "source": [
        "time.split(':')"
      ],
      "execution_count": 76,
      "outputs": [
        {
          "output_type": "execute_result",
          "data": {
            "text/plain": [
              "['12', '30', '15']"
            ]
          },
          "metadata": {
            "tags": []
          },
          "execution_count": 76
        }
      ]
    },
    {
      "cell_type": "code",
      "metadata": {
        "id": "0hPmcvHsvURI"
      },
      "source": [
        "t_sp = t.splist"
      ],
      "execution_count": null,
      "outputs": []
    }
  ]
}