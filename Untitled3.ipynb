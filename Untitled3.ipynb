{
  "nbformat": 4,
  "nbformat_minor": 0,
  "metadata": {
    "colab": {
      "name": "Untitled3.ipynb",
      "provenance": [],
      "authorship_tag": "ABX9TyOZ4IE85TdH4cmXLuvMA7SC",
      "include_colab_link": true
    },
    "kernelspec": {
      "name": "python3",
      "display_name": "Python 3"
    }
  },
  "cells": [
    {
      "cell_type": "markdown",
      "metadata": {
        "id": "view-in-github",
        "colab_type": "text"
      },
      "source": [
        "<a href=\"https://colab.research.google.com/github/khanittha-phusopha/multivariate-/blob/main/Untitled3.ipynb\" target=\"_parent\"><img src=\"https://colab.research.google.com/assets/colab-badge.svg\" alt=\"Open In Colab\"/></a>"
      ]
    },
    {
      "cell_type": "markdown",
      "metadata": {
        "id": "pwxkzv85bU7a"
      },
      "source": [
        "###Scalar, Vector, Matrix"
      ]
    },
    {
      "cell_type": "markdown",
      "metadata": {
        "id": "bonxVzzQbeCu"
      },
      "source": [
        "###Scalar"
      ]
    },
    {
      "cell_type": "code",
      "metadata": {
        "id": "HPFRiqY7bgyQ"
      },
      "source": [
        "import numpy as np"
      ],
      "execution_count": null,
      "outputs": []
    },
    {
      "cell_type": "code",
      "metadata": {
        "colab": {
          "base_uri": "https://localhost:8080/"
        },
        "id": "onJPd4S2b32y",
        "outputId": "da98eb18-1697-4bab-c38c-396b1c3392ec"
      },
      "source": [
        "scalar_a = 10  #scalar บอกขนาด\r\n",
        "print(scalar_a)"
      ],
      "execution_count": null,
      "outputs": [
        {
          "output_type": "stream",
          "text": [
            "10\n"
          ],
          "name": "stdout"
        }
      ]
    },
    {
      "cell_type": "markdown",
      "metadata": {
        "id": "L2-ZRfi9b8Ns"
      },
      "source": [
        "###Vector"
      ]
    },
    {
      "cell_type": "code",
      "metadata": {
        "colab": {
          "base_uri": "https://localhost:8080/"
        },
        "id": "HWjmFsURb_AY",
        "outputId": "6c6cfc5e-bf06-4d00-90ef-daae69f2e0c9"
      },
      "source": [
        "vector_b = np.zeros([2,1])  #vector มีขนาดและทิศทาง\r\n",
        "vector_b[0,0] = 2\r\n",
        "vector_b[1,0] = 3\r\n",
        "print(vector_b)\r\n",
        "print(vector_b.shape)"
      ],
      "execution_count": null,
      "outputs": [
        {
          "output_type": "stream",
          "text": [
            "[[2.]\n",
            " [3.]]\n",
            "(2, 1)\n"
          ],
          "name": "stdout"
        }
      ]
    },
    {
      "cell_type": "code",
      "metadata": {
        "colab": {
          "base_uri": "https://localhost:8080/"
        },
        "id": "9l88UJaMcHOp",
        "outputId": "ed68afaf-9a2d-4dd6-a077-eb02d46d83e3"
      },
      "source": [
        "vector_c = np.array([[1],[3]])    #1=x, 3=y\r\n",
        "print(vector_c)\r\n",
        "print(vector_c.shape)"
      ],
      "execution_count": null,
      "outputs": [
        {
          "output_type": "stream",
          "text": [
            "[[1]\n",
            " [3]]\n",
            "(2, 1)\n"
          ],
          "name": "stdout"
        }
      ]
    },
    {
      "cell_type": "code",
      "metadata": {
        "id": "d6FQ7wYGcSAZ"
      },
      "source": [
        "from matplotlib import pyplot as plt"
      ],
      "execution_count": null,
      "outputs": []
    },
    {
      "cell_type": "code",
      "metadata": {
        "colab": {
          "base_uri": "https://localhost:8080/",
          "height": 282
        },
        "id": "Qp6DidmhcWax",
        "outputId": "b2dda788-85d5-4811-b849-4dca0060e717"
      },
      "source": [
        "plt.plot(vector_b[0,0],vector_b[1,0],'or')    #จุด1,3"
      ],
      "execution_count": null,
      "outputs": [
        {
          "output_type": "execute_result",
          "data": {
            "text/plain": [
              "[<matplotlib.lines.Line2D at 0x7fca123e07f0>]"
            ]
          },
          "metadata": {
            "tags": []
          },
          "execution_count": 8
        },
        {
          "output_type": "display_data",
          "data": {
            "image/png": "[encoded data removed]",
            "text/plain": [
              "<Figure size 432x288 with 1 Axes>"
            ]
          },
          "metadata": {
            "tags": [],
            "needs_background": "light"
          }
        }
      ]
    },
    {
      "cell_type": "markdown",
      "metadata": {
        "id": "9utXdX14cgWL"
      },
      "source": [
        "ขนาดของ vector คำนวณได้โดย พิธากอรัส"
      ]
    },
    {
      "cell_type": "code",
      "metadata": {
        "colab": {
          "base_uri": "https://localhost:8080/"
        },
        "id": "FsRKMNxfcw3e",
        "outputId": "c8740392-8248-4761-d255-cee9938ed18a"
      },
      "source": [
        "vector_b_size = ((vector_b[0,0]**2) + (vector_b[1,0]**2))**0.5\r\n",
        "print (vector_b_size)"
      ],
      "execution_count": null,
      "outputs": [
        {
          "output_type": "stream",
          "text": [
            "3.605551275463989\n"
          ],
          "name": "stdout"
        }
      ]
    },
    {
      "cell_type": "markdown",
      "metadata": {
        "id": "qvEvhlphc4qE"
      },
      "source": [
        "###Matrix"
      ]
    },
    {
      "cell_type": "code",
      "metadata": {
        "colab": {
          "base_uri": "https://localhost:8080/"
        },
        "id": "AgPmeHZJc_PP",
        "outputId": "333af558-126a-4958-cc2c-8e444876e6c6"
      },
      "source": [
        "matrix_d = np.array([[2,3],[1,4],[-1,1]])\r\n",
        "print(matrix_d)"
      ],
      "execution_count": null,
      "outputs": [
        {
          "output_type": "stream",
          "text": [
            "[[ 2  3]\n",
            " [ 1  4]\n",
            " [-1  1]]\n"
          ],
          "name": "stdout"
        }
      ]
    },
    {
      "cell_type": "code",
      "metadata": {
        "colab": {
          "base_uri": "https://localhost:8080/"
        },
        "id": "o2ctm3MOdK5_",
        "outputId": "b89df69f-dc86-4bb6-9b6d-0c5e995d78b8"
      },
      "source": [
        "matrix_d = matrix_d.T\r\n",
        "print(matrix_d)"
      ],
      "execution_count": null,
      "outputs": [
        {
          "output_type": "stream",
          "text": [
            "[[ 2  3]\n",
            " [ 1  4]\n",
            " [-1  1]]\n"
          ],
          "name": "stdout"
        }
      ]
    },
    {
      "cell_type": "code",
      "metadata": {
        "colab": {
          "base_uri": "https://localhost:8080/"
        },
        "id": "lYH6pNXVdUjl",
        "outputId": "5e33ed16-afe9-4146-b63b-ba4fbb7c2c0d"
      },
      "source": [
        "matrix_d[0,:]  #ตัดมาแถวx"
      ],
      "execution_count": null,
      "outputs": [
        {
          "output_type": "execute_result",
          "data": {
            "text/plain": [
              "array([2, 3])"
            ]
          },
          "metadata": {
            "tags": []
          },
          "execution_count": 13
        }
      ]
    },
    {
      "cell_type": "code",
      "metadata": {
        "colab": {
          "base_uri": "https://localhost:8080/",
          "height": 282
        },
        "id": "xh7ec6gHdY0V",
        "outputId": "55e0504f-974b-4958-90c2-4233a460e118"
      },
      "source": [
        "plt.plot(matrix_d[0,:],matrix_d[1,:], 'or')   #plot(ค่าx,ค่าy,หน้าตาของจุด)  /  พอตจุดลงไปในสเปส\r\n",
        "plt.plot(0,0,'.b')                    #มีx1จุด,yจุด แสดงว่ามี1จุด\r\n",
        "plt.plot ([0,0],[-1,5],'--b')      #มีx2จุด,y2จุด แสดงว่ามี2จุด\r\n",
        "plt.plot ([-1.5,2.5],[0,0],'--b')"
      ],
      "execution_count": null,
      "outputs": [
        {
          "output_type": "execute_result",
          "data": {
            "text/plain": [
              "[<matplotlib.lines.Line2D at 0x7fca12385780>]"
            ]
          },
          "metadata": {
            "tags": []
          },
          "execution_count": 14
        },
        {
          "output_type": "display_data",
          "data": {
            "image/png": "[encoded data removed]",
            "text/plain": [
              "<Figure size 432x288 with 1 Axes>"
            ]
          },
          "metadata": {
            "tags": [],
            "needs_background": "light"
          }
        }
      ]
    },
    {
      "cell_type": "markdown",
      "metadata": {
        "id": "1qZ1I44ndg6S"
      },
      "source": [
        "###Transpose"
      ]
    },
    {
      "cell_type": "code",
      "metadata": {
        "colab": {
          "base_uri": "https://localhost:8080/"
        },
        "id": "5xv5Vfq7dlfE",
        "outputId": "49111cc3-5775-4c7a-ef96-9cd4bdfb7a18"
      },
      "source": [
        "A = np.array([[3,-1,2],[1,5,4]])\r\n",
        "print (A)"
      ],
      "execution_count": null,
      "outputs": [
        {
          "output_type": "stream",
          "text": [
            "[[ 3 -1  2]\n",
            " [ 1  5  4]]\n"
          ],
          "name": "stdout"
        }
      ]
    },
    {
      "cell_type": "code",
      "metadata": {
        "colab": {
          "base_uri": "https://localhost:8080/"
        },
        "id": "DMAnYF7xdsH1",
        "outputId": "e3254b27-e4c9-4182-8b65-c05f09826bbf"
      },
      "source": [
        "A.T"
      ],
      "execution_count": null,
      "outputs": [
        {
          "output_type": "execute_result",
          "data": {
            "text/plain": [
              "array([[ 3,  1],\n",
              "       [-1,  5],\n",
              "       [ 2,  4]])"
            ]
          },
          "metadata": {
            "tags": []
          },
          "execution_count": 16
        }
      ]
    },
    {
      "cell_type": "markdown",
      "metadata": {
        "id": "300_LINAdzdC"
      },
      "source": [
        "###Matrix Multiply\r\n",
        "B=A∗A′"
      ]
    },
    {
      "cell_type": "code",
      "metadata": {
        "colab": {
          "base_uri": "https://localhost:8080/"
        },
        "id": "RTj5ZXxEd5tt",
        "outputId": "84206f75-124e-4c2a-f1dd-0ce2992577e5"
      },
      "source": [
        "B = np.dot(A,A.T)\r\n",
        "print(B)"
      ],
      "execution_count": null,
      "outputs": [
        {
          "output_type": "stream",
          "text": [
            "[[14  6]\n",
            " [ 6 42]]\n"
          ],
          "name": "stdout"
        }
      ]
    },
    {
      "cell_type": "markdown",
      "metadata": {
        "id": "cKs6J_sReCCL"
      },
      "source": [
        "###Determinant\r\n",
        "Det(B)"
      ]
    },
    {
      "cell_type": "code",
      "metadata": {
        "colab": {
          "base_uri": "https://localhost:8080/"
        },
        "id": "VUWgaMJJeRNh",
        "outputId": "9561f5ef-6993-4dab-cad7-d3b256052603"
      },
      "source": [
        "np.linalg.det(B)"
      ],
      "execution_count": null,
      "outputs": [
        {
          "output_type": "execute_result",
          "data": {
            "text/plain": [
              "551.9999999999998"
            ]
          },
          "metadata": {
            "tags": []
          },
          "execution_count": 18
        }
      ]
    },
    {
      "cell_type": "markdown",
      "metadata": {
        "id": "9WbZvqXAeVH7"
      },
      "source": [
        "###lianlg = linear algebra"
      ]
    },
    {
      "cell_type": "markdown",
      "metadata": {
        "id": "mdIxPDQ0eab5"
      },
      "source": [
        "matrix algebra เพิ่มเติม"
      ]
    },
    {
      "cell_type": "code",
      "metadata": {
        "colab": {
          "base_uri": "https://localhost:8080/",
          "height": 282
        },
        "id": "GC8WWZ2Kefv6",
        "outputId": "02a9bbd6-5bc3-4886-83e9-00450b47ec34"
      },
      "source": [
        "plt.plot([0,1],[0,1],'-r')           #vector [1,1]\r\n",
        "plt.plot(0,0,'.b')                    #มีx1จุด,yจุด แสดงว่ามี1จุด\r\n",
        "plt.plot ([0,0],[-1,5],'^:k')      #มีx2จุด,y2จุด แสดงว่ามี2จุด\r\n",
        "plt.plot ([-1.5,2.5],[0,0],'>:k')"
      ],
      "execution_count": null,
      "outputs": [
        {
          "output_type": "execute_result",
          "data": {
            "text/plain": [
              "[<matplotlib.lines.Line2D at 0x7fca11ea9a20>]"
            ]
          },
          "metadata": {
            "tags": []
          },
          "execution_count": 19
        },
        {
          "output_type": "display_data",
          "data": {
            "image/png": "[encoded data removed]",
            "text/plain": [
              "<Figure size 432x288 with 1 Axes>"
            ]
          },
          "metadata": {
            "tags": [],
            "needs_background": "light"
          }
        }
      ]
    },
    {
      "cell_type": "code",
      "metadata": {
        "colab": {
          "base_uri": "https://localhost:8080/"
        },
        "id": "gzInDYEder2R",
        "outputId": "1416ac20-faac-4fb2-dcb3-f1c1b58d126d"
      },
      "source": [
        "B = np.array([[1,2],[3,4]])\r\n",
        "B"
      ],
      "execution_count": null,
      "outputs": [
        {
          "output_type": "execute_result",
          "data": {
            "text/plain": [
              "array([[1, 2],\n",
              "       [3, 4]])"
            ]
          },
          "metadata": {
            "tags": []
          },
          "execution_count": 20
        }
      ]
    },
    {
      "cell_type": "markdown",
      "metadata": {
        "id": "KqzxAO56e2dg"
      },
      "source": [
        "\r\n",
        "##การคูณ Matrix  B.v  คือ การทำ linear transformation"
      ]
    },
    {
      "cell_type": "code",
      "metadata": {
        "colab": {
          "base_uri": "https://localhost:8080/"
        },
        "id": "rmK4zhQoe7dm",
        "outputId": "6a2c90e9-a2fd-45a7-9d83-3cf17a0693c5"
      },
      "source": [
        "v = np.array([[1],[1]])\r\n",
        "v"
      ],
      "execution_count": null,
      "outputs": [
        {
          "output_type": "execute_result",
          "data": {
            "text/plain": [
              "array([[1],\n",
              "       [1]])"
            ]
          },
          "metadata": {
            "tags": []
          },
          "execution_count": 21
        }
      ]
    },
    {
      "cell_type": "code",
      "metadata": {
        "colab": {
          "base_uri": "https://localhost:8080/"
        },
        "id": "zX03Oel8fBlo",
        "outputId": "cece9764-a22b-4e0e-c132-6ca579a78660"
      },
      "source": [
        "Bv = np.dot(B,np.array([[1],[1]]))\r\n",
        "Bv"
      ],
      "execution_count": null,
      "outputs": [
        {
          "output_type": "execute_result",
          "data": {
            "text/plain": [
              "array([[3],\n",
              "       [7]])"
            ]
          },
          "metadata": {
            "tags": []
          },
          "execution_count": 22
        }
      ]
    },
    {
      "cell_type": "code",
      "metadata": {
        "colab": {
          "base_uri": "https://localhost:8080/",
          "height": 282
        },
        "id": "pFBDSsS9fGH3",
        "outputId": "0b9d2cc5-7276-48b9-eb5b-54872b2ab7d4"
      },
      "source": [
        "plt.plot([0,Bv[0,0]],[0,Bv[1,0]],'-g') # vector [1,1]\r\n",
        "plt.plot([0,1],[0,1],'-r') \r\n",
        "plt.plot(0,0,'.k')\r\n",
        "plt.plot([0,0],[-1,5],'^:k')\r\n",
        "plt.plot([-1.5,2.5],[0,0],'>:k')"
      ],
      "execution_count": null,
      "outputs": [
        {
          "output_type": "execute_result",
          "data": {
            "text/plain": [
              "[<matplotlib.lines.Line2D at 0x7fca11e21e80>]"
            ]
          },
          "metadata": {
            "tags": []
          },
          "execution_count": 23
        },
        {
          "output_type": "display_data",
          "data": {
            "image/png": "[encoded data removed]",
            "text/plain": [
              "<Figure size 432x288 with 1 Axes>"
            ]
          },
          "metadata": {
            "tags": [],
            "needs_background": "light"
          }
        }
      ]
    },
    {
      "cell_type": "markdown",
      "metadata": {
        "id": "ZasQiKDEfK5k"
      },
      "source": [
        "###Determinant ของ Matrix  Det(B)  คือ พื้นที่ของ unit vector ที่ถูกเปลี่ยนไป โดย Matrix นั้นๆ"
      ]
    },
    {
      "cell_type": "code",
      "metadata": {
        "colab": {
          "base_uri": "https://localhost:8080/",
          "height": 282
        },
        "id": "GY9b0JyQfTzF",
        "outputId": "a409c8ee-7f06-4df8-d93c-394f8c47cf61"
      },
      "source": [
        "plt.plot([0,Bv[0,0]],[0,Bv[1,0]],'-g') # vector Bv\r\n",
        "plt.plot([3,3],[0,7],':c') #วาดจุดไข่ปลา พื้นที่ของ Bv\r\n",
        "plt.plot([3,0],[7,7],':c') #วาดจุดไข่ปลา พื้นที่ของ Bv\r\n",
        "plt.plot([0,1],[0,1],'-r')  #vector v ([1,1])\r\n",
        "plt.plot([1,1],[1,0],':r') #วาดจุดไข่ปลา พื้นที่ของ v\r\n",
        "plt.plot([1,0],[1,1],':r') #วาดจุดไข่ปลา พื้นที่ของ v\r\n",
        "plt.plot(0,0,'.b')\r\n",
        "plt.plot([0,0],[-1,5],'^:k')\r\n",
        "plt.plot([-1.5,2.5],[0,0],'>:k')"
      ],
      "execution_count": null,
      "outputs": [
        {
          "output_type": "execute_result",
          "data": {
            "text/plain": [
              "[<matplotlib.lines.Line2D at 0x7fca11da3828>]"
            ]
          },
          "metadata": {
            "tags": []
          },
          "execution_count": 24
        },
        {
          "output_type": "display_data",
          "data": {
            "image/png": "[encoded data removed]",
            "text/plain": [
              "<Figure size 432x288 with 1 Axes>"
            ]
          },
          "metadata": {
            "tags": [],
            "needs_background": "light"
          }
        }
      ]
    },
    {
      "cell_type": "markdown",
      "metadata": {
        "id": "mBmrTc4xfZHW"
      },
      "source": [
        "###Identity matrix ( I )\r\n",
        "\r\n",
        "BI=B=IB"
      ]
    },
    {
      "cell_type": "code",
      "metadata": {
        "id": "KwuyJ7eCfgVU"
      },
      "source": [
        "iden2 = np.identity(2)"
      ],
      "execution_count": null,
      "outputs": []
    },
    {
      "cell_type": "code",
      "metadata": {
        "colab": {
          "base_uri": "https://localhost:8080/"
        },
        "id": "qz80GcBEfi4e",
        "outputId": "a17d3517-89b3-458e-a9eb-bb9c3ab68a7e"
      },
      "source": [
        "B"
      ],
      "execution_count": null,
      "outputs": [
        {
          "output_type": "execute_result",
          "data": {
            "text/plain": [
              "array([[1, 2],\n",
              "       [3, 4]])"
            ]
          },
          "metadata": {
            "tags": []
          },
          "execution_count": 25
        }
      ]
    },
    {
      "cell_type": "code",
      "metadata": {
        "colab": {
          "base_uri": "https://localhost:8080/"
        },
        "id": "P3T45SkEfmbS",
        "outputId": "a9c3ef58-72e5-45d4-a6cc-c6dc6673fef7"
      },
      "source": [
        "np.dot(B,iden2)"
      ],
      "execution_count": null,
      "outputs": [
        {
          "output_type": "execute_result",
          "data": {
            "text/plain": [
              "array([[1., 2.],\n",
              "       [3., 4.]])"
            ]
          },
          "metadata": {
            "tags": []
          },
          "execution_count": 28
        }
      ]
    },
    {
      "cell_type": "code",
      "metadata": {
        "colab": {
          "base_uri": "https://localhost:8080/"
        },
        "id": "PvOQgUk1fuf8",
        "outputId": "383e4f68-3b31-400c-9c86-cbd71005d1dc"
      },
      "source": [
        "C = np.array([[-1,2],[2,4]])\r\n",
        "C"
      ],
      "execution_count": null,
      "outputs": [
        {
          "output_type": "execute_result",
          "data": {
            "text/plain": [
              "array([[-1,  2],\n",
              "       [ 2,  4]])"
            ]
          },
          "metadata": {
            "tags": []
          },
          "execution_count": 29
        }
      ]
    },
    {
      "cell_type": "code",
      "metadata": {
        "colab": {
          "base_uri": "https://localhost:8080/"
        },
        "id": "AdoaGhGlfyjb",
        "outputId": "69d6866d-1f4e-4bf3-e88b-6903dc1d35b7"
      },
      "source": [
        "np.dot(B,C)"
      ],
      "execution_count": null,
      "outputs": [
        {
          "output_type": "execute_result",
          "data": {
            "text/plain": [
              "array([[ 3, 10],\n",
              "       [ 5, 22]])"
            ]
          },
          "metadata": {
            "tags": []
          },
          "execution_count": 30
        }
      ]
    },
    {
      "cell_type": "code",
      "metadata": {
        "colab": {
          "base_uri": "https://localhost:8080/"
        },
        "id": "-aoFNZHEf1T0",
        "outputId": "061a0597-d878-42da-ea32-34bc74bff854"
      },
      "source": [
        "np.dot(C,B)"
      ],
      "execution_count": null,
      "outputs": [
        {
          "output_type": "execute_result",
          "data": {
            "text/plain": [
              "array([[ 5,  6],\n",
              "       [14, 20]])"
            ]
          },
          "metadata": {
            "tags": []
          },
          "execution_count": 31
        }
      ]
    },
    {
      "cell_type": "markdown",
      "metadata": {
        "id": "9R3yE2xOf5Ba"
      },
      "source": [
        "###การบ้านในห้อง (Quiz 1)\r\n",
        "![download.png](data:image/png;base64,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)"
      ]
    },
    {
      "cell_type": "code",
      "metadata": {
        "colab": {
          "base_uri": "https://localhost:8080/"
        },
        "id": "BGsmucm3gOe8",
        "outputId": "8de9c997-ee89-4821-821f-74e2698db4ca"
      },
      "source": [
        "Q = np.array([[3,1,6],[7,4,5],[2,-7,1]])\r\n",
        "Q"
      ],
      "execution_count": null,
      "outputs": [
        {
          "output_type": "execute_result",
          "data": {
            "text/plain": [
              "array([[ 3,  1,  6],\n",
              "       [ 7,  4,  5],\n",
              "       [ 2, -7,  1]])"
            ]
          },
          "metadata": {
            "tags": []
          },
          "execution_count": 32
        }
      ]
    },
    {
      "cell_type": "code",
      "metadata": {
        "colab": {
          "base_uri": "https://localhost:8080/"
        },
        "id": "UZsm4IJ1gTE-",
        "outputId": "06594471-19fd-4d8d-b3c0-1741db690c63"
      },
      "source": [
        "np.linalg.det(Q)"
      ],
      "execution_count": null,
      "outputs": [
        {
          "output_type": "execute_result",
          "data": {
            "text/plain": [
              "-221.99999999999997"
            ]
          },
          "metadata": {
            "tags": []
          },
          "execution_count": 33
        }
      ]
    },
    {
      "cell_type": "markdown",
      "metadata": {
        "id": "k8td0YrKgYwW"
      },
      "source": [
        "##Eigen value กับ Eigen vector\r\n",
        "\r\n",
        "Eigen value ( λ )->  |A−λI|=0  (latex)\r\n",
        "Eigen vector ( x ) ->  Ax=λx"
      ]
    },
    {
      "cell_type": "markdown",
      "metadata": {
        "id": "RMGZDIzTgi0J"
      },
      "source": [
        "###HW 5 หา Eigen value กับ Eigen vector\r\n",
        "![download (1).png](data:image/png;base64,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)"
      ]
    },
    {
      "cell_type": "code",
      "metadata": {
        "colab": {
          "base_uri": "https://localhost:8080/"
        },
        "id": "aKJLTseVgyy_",
        "outputId": "14fba1a6-7cc0-4650-b64f-58b3ad42dd60"
      },
      "source": [
        "H = np.array([[1,0],[1,3]])\r\n",
        "H"
      ],
      "execution_count": null,
      "outputs": [
        {
          "output_type": "execute_result",
          "data": {
            "text/plain": [
              "array([[1, 0],\n",
              "       [1, 3]])"
            ]
          },
          "metadata": {
            "tags": []
          },
          "execution_count": 40
        }
      ]
    },
    {
      "cell_type": "code",
      "metadata": {
        "colab": {
          "base_uri": "https://localhost:8080/"
        },
        "id": "BOmf3_qwiGj8",
        "outputId": "ea58ed52-2272-43d4-bc0b-b9e72bf99725"
      },
      "source": [
        "#Eigen vector\r\n",
        "A = np.array([[1,0],[1,3]])\r\n",
        "w,v = np.linalg.eig(A)\r\n",
        "w;v"
      ],
      "execution_count": null,
      "outputs": [
        {
          "output_type": "execute_result",
          "data": {
            "text/plain": [
              "array([[ 0.        ,  0.89442719],\n",
              "       [ 1.        , -0.4472136 ]])"
            ]
          },
          "metadata": {
            "tags": []
          },
          "execution_count": 43
        }
      ]
    },
    {
      "cell_type": "markdown",
      "metadata": {
        "id": "Hwcs5TOvhYZP"
      },
      "source": [
        "###Eigen value"
      ]
    },
    {
      "cell_type": "code",
      "metadata": {
        "colab": {
          "base_uri": "https://localhost:8080/"
        },
        "id": "w-SsdGjMhekb",
        "outputId": "a27efec2-9156-4b1a-ecb0-d81c93b20540"
      },
      "source": [
        "HW = np.array([[1,0], [1,3]])\r\n",
        "np.linalg.eigvals(HW)"
      ],
      "execution_count": null,
      "outputs": [
        {
          "output_type": "execute_result",
          "data": {
            "text/plain": [
              "array([3., 1.])"
            ]
          },
          "metadata": {
            "tags": []
          },
          "execution_count": 42
        }
      ]
    },
    {
      "cell_type": "markdown",
      "metadata": {
        "id": "PvpjNfwphjG-"
      },
      "source": [
        "###Inverse Matrix"
      ]
    },
    {
      "cell_type": "markdown",
      "metadata": {
        "id": "pOYYkgkOmlxf"
      },
      "source": [
        "###การนำเข้า data"
      ]
    },
    {
      "cell_type": "code",
      "metadata": {
        "id": "MGFMWe6CnSPd"
      },
      "source": [
        "/content/polution data.txt"
      ],
      "execution_count": null,
      "outputs": []
    }
  ]
}