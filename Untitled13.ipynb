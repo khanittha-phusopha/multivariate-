{
  "nbformat": 4,
  "nbformat_minor": 0,
  "metadata": {
    "colab": {
      "name": "Untitled13.ipynb",
      "provenance": [],
      "authorship_tag": "ABX9TyM4ihpKSpxGoXX4f6C7XM2h",
      "include_colab_link": true
    },
    "kernelspec": {
      "name": "python3",
      "display_name": "Python 3"
    },
    "language_info": {
      "name": "python"
    }
  },
  "cells": [
    {
      "cell_type": "markdown",
      "metadata": {
        "id": "view-in-github",
        "colab_type": "text"
      },
      "source": [
        "<a href=\"https://colab.research.google.com/github/khanittha-phusopha/multivariate-/blob/main/Untitled13.ipynb\" target=\"_parent\"><img src=\"https://colab.research.google.com/assets/colab-badge.svg\" alt=\"Open In Colab\"/></a>"
      ]
    },
    {
      "cell_type": "markdown",
      "metadata": {
        "id": "G1w1vYxj6wau"
      },
      "source": [
        "\n",
        "https://www.datacamp.com/community/tutorials/introduction-factor-analysis"
      ]
    },
    {
      "cell_type": "markdown",
      "metadata": {
        "id": "VIVbEFwn4uo6"
      },
      "source": [
        "Assumptions:"
      ]
    },
    {
      "cell_type": "code",
      "metadata": {
        "id": "ZaVAvIMx4qwX"
      },
      "source": [
        "import pandas as pd"
      ],
      "execution_count": 12,
      "outputs": []
    },
    {
      "cell_type": "code",
      "metadata": {
        "colab": {
          "base_uri": "https://localhost:8080/",
          "height": 197
        },
        "id": "cqSB4ahR40ty",
        "outputId": "2f80c9b2-0c83-4caf-9624-453fb9a22034"
      },
      "source": [
        "BFI_data = pd.read_csv('https://vincentarelbundock.github.io/Rdatasets/csv/psych/bfi.csv')\n",
        "BFI_data.head()"
      ],
      "execution_count": 13,
      "outputs": [
        {
          "output_type": "execute_result",
          "data": {
            "text/html": [
              "<div>\n",
              "<style scoped>\n",
              "    .dataframe tbody tr th:only-of-type {\n",
              "        vertical-align: middle;\n",
              "    }\n",
              "\n",
              "    .dataframe tbody tr th {\n",
              "        vertical-align: top;\n",
              "    }\n",
              "\n",
              "    .dataframe thead th {\n",
              "        text-align: right;\n",
              "    }\n",
              "</style>\n",
              "<table border=\"1\" class=\"dataframe\">\n",
              "  <thead>\n",
              "    <tr style=\"text-align: right;\">\n",
              "      <th></th>\n",
              "      <th>Unnamed: 0</th>\n",
              "      <th>A1</th>\n",
              "      <th>A2</th>\n",
              "      <th>A3</th>\n",
              "      <th>A4</th>\n",
              "      <th>A5</th>\n",
              "      <th>C1</th>\n",
              "      <th>C2</th>\n",
              "      <th>C3</th>\n",
              "      <th>C4</th>\n",
              "      <th>C5</th>\n",
              "      <th>E1</th>\n",
              "      <th>E2</th>\n",
              "      <th>E3</th>\n",
              "      <th>E4</th>\n",
              "      <th>E5</th>\n",
              "      <th>N1</th>\n",
              "      <th>N2</th>\n",
              "      <th>N3</th>\n",
              "      <th>N4</th>\n",
              "      <th>N5</th>\n",
              "      <th>O1</th>\n",
              "      <th>O2</th>\n",
              "      <th>O3</th>\n",
              "      <th>O4</th>\n",
              "      <th>O5</th>\n",
              "      <th>gender</th>\n",
              "      <th>education</th>\n",
              "      <th>age</th>\n",
              "    </tr>\n",
              "  </thead>\n",
              "  <tbody>\n",
              "    <tr>\n",
              "      <th>0</th>\n",
              "      <td>61617</td>\n",
              "      <td>2.0</td>\n",
              "      <td>4.0</td>\n",
              "      <td>3.0</td>\n",
              "      <td>4.0</td>\n",
              "      <td>4.0</td>\n",
              "      <td>2.0</td>\n",
              "      <td>3.0</td>\n",
              "      <td>3.0</td>\n",
              "      <td>4.0</td>\n",
              "      <td>4.0</td>\n",
              "      <td>3.0</td>\n",
              "      <td>3.0</td>\n",
              "      <td>3.0</td>\n",
              "      <td>4.0</td>\n",
              "      <td>4.0</td>\n",
              "      <td>3.0</td>\n",
              "      <td>4.0</td>\n",
              "      <td>2.0</td>\n",
              "      <td>2.0</td>\n",
              "      <td>3.0</td>\n",
              "      <td>3.0</td>\n",
              "      <td>6</td>\n",
              "      <td>3.0</td>\n",
              "      <td>4.0</td>\n",
              "      <td>3.0</td>\n",
              "      <td>1</td>\n",
              "      <td>NaN</td>\n",
              "      <td>16</td>\n",
              "    </tr>\n",
              "    <tr>\n",
              "      <th>1</th>\n",
              "      <td>61618</td>\n",
              "      <td>2.0</td>\n",
              "      <td>4.0</td>\n",
              "      <td>5.0</td>\n",
              "      <td>2.0</td>\n",
              "      <td>5.0</td>\n",
              "      <td>5.0</td>\n",
              "      <td>4.0</td>\n",
              "      <td>4.0</td>\n",
              "      <td>3.0</td>\n",
              "      <td>4.0</td>\n",
              "      <td>1.0</td>\n",
              "      <td>1.0</td>\n",
              "      <td>6.0</td>\n",
              "      <td>4.0</td>\n",
              "      <td>3.0</td>\n",
              "      <td>3.0</td>\n",
              "      <td>3.0</td>\n",
              "      <td>3.0</td>\n",
              "      <td>5.0</td>\n",
              "      <td>5.0</td>\n",
              "      <td>4.0</td>\n",
              "      <td>2</td>\n",
              "      <td>4.0</td>\n",
              "      <td>3.0</td>\n",
              "      <td>3.0</td>\n",
              "      <td>2</td>\n",
              "      <td>NaN</td>\n",
              "      <td>18</td>\n",
              "    </tr>\n",
              "    <tr>\n",
              "      <th>2</th>\n",
              "      <td>61620</td>\n",
              "      <td>5.0</td>\n",
              "      <td>4.0</td>\n",
              "      <td>5.0</td>\n",
              "      <td>4.0</td>\n",
              "      <td>4.0</td>\n",
              "      <td>4.0</td>\n",
              "      <td>5.0</td>\n",
              "      <td>4.0</td>\n",
              "      <td>2.0</td>\n",
              "      <td>5.0</td>\n",
              "      <td>2.0</td>\n",
              "      <td>4.0</td>\n",
              "      <td>4.0</td>\n",
              "      <td>4.0</td>\n",
              "      <td>5.0</td>\n",
              "      <td>4.0</td>\n",
              "      <td>5.0</td>\n",
              "      <td>4.0</td>\n",
              "      <td>2.0</td>\n",
              "      <td>3.0</td>\n",
              "      <td>4.0</td>\n",
              "      <td>2</td>\n",
              "      <td>5.0</td>\n",
              "      <td>5.0</td>\n",
              "      <td>2.0</td>\n",
              "      <td>2</td>\n",
              "      <td>NaN</td>\n",
              "      <td>17</td>\n",
              "    </tr>\n",
              "    <tr>\n",
              "      <th>3</th>\n",
              "      <td>61621</td>\n",
              "      <td>4.0</td>\n",
              "      <td>4.0</td>\n",
              "      <td>6.0</td>\n",
              "      <td>5.0</td>\n",
              "      <td>5.0</td>\n",
              "      <td>4.0</td>\n",
              "      <td>4.0</td>\n",
              "      <td>3.0</td>\n",
              "      <td>5.0</td>\n",
              "      <td>5.0</td>\n",
              "      <td>5.0</td>\n",
              "      <td>3.0</td>\n",
              "      <td>4.0</td>\n",
              "      <td>4.0</td>\n",
              "      <td>4.0</td>\n",
              "      <td>2.0</td>\n",
              "      <td>5.0</td>\n",
              "      <td>2.0</td>\n",
              "      <td>4.0</td>\n",
              "      <td>1.0</td>\n",
              "      <td>3.0</td>\n",
              "      <td>3</td>\n",
              "      <td>4.0</td>\n",
              "      <td>3.0</td>\n",
              "      <td>5.0</td>\n",
              "      <td>2</td>\n",
              "      <td>NaN</td>\n",
              "      <td>17</td>\n",
              "    </tr>\n",
              "    <tr>\n",
              "      <th>4</th>\n",
              "      <td>61622</td>\n",
              "      <td>2.0</td>\n",
              "      <td>3.0</td>\n",
              "      <td>3.0</td>\n",
              "      <td>4.0</td>\n",
              "      <td>5.0</td>\n",
              "      <td>4.0</td>\n",
              "      <td>4.0</td>\n",
              "      <td>5.0</td>\n",
              "      <td>3.0</td>\n",
              "      <td>2.0</td>\n",
              "      <td>2.0</td>\n",
              "      <td>2.0</td>\n",
              "      <td>5.0</td>\n",
              "      <td>4.0</td>\n",
              "      <td>5.0</td>\n",
              "      <td>2.0</td>\n",
              "      <td>3.0</td>\n",
              "      <td>4.0</td>\n",
              "      <td>4.0</td>\n",
              "      <td>3.0</td>\n",
              "      <td>3.0</td>\n",
              "      <td>3</td>\n",
              "      <td>4.0</td>\n",
              "      <td>3.0</td>\n",
              "      <td>3.0</td>\n",
              "      <td>1</td>\n",
              "      <td>NaN</td>\n",
              "      <td>17</td>\n",
              "    </tr>\n",
              "  </tbody>\n",
              "</table>\n",
              "</div>"
            ],
            "text/plain": [
              "   Unnamed: 0   A1   A2   A3   A4   A5  ...   O3   O4   O5  gender  education  age\n",
              "0       61617  2.0  4.0  3.0  4.0  4.0  ...  3.0  4.0  3.0       1        NaN   16\n",
              "1       61618  2.0  4.0  5.0  2.0  5.0  ...  4.0  3.0  3.0       2        NaN   18\n",
              "2       61620  5.0  4.0  5.0  4.0  4.0  ...  5.0  5.0  2.0       2        NaN   17\n",
              "3       61621  4.0  4.0  6.0  5.0  5.0  ...  4.0  3.0  5.0       2        NaN   17\n",
              "4       61622  2.0  3.0  3.0  4.0  5.0  ...  4.0  3.0  3.0       1        NaN   17\n",
              "\n",
              "[5 rows x 29 columns]"
            ]
          },
          "metadata": {
            "tags": []
          },
          "execution_count": 13
        }
      ]
    },
    {
      "cell_type": "markdown",
      "metadata": {
        "id": "ShyLz5na47Ta"
      },
      "source": [
        "##Factor Analysis'\n",
        "\n",
        "##Assumption:\n",
        "\n",
        "ในข้อมูล multivariate ที่มีตัวแปร observe variables จำนวน n ตัว\n",
        "\n",
        "มีตัวแปร Factor (Latent Variables) จำนวน k ตัว ที่สามารถอธิบายข้อมูลทั้งหมดได้\n",
        "\n",
        "โดย k < n![download (6).png](data:image/png;base64,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)"
      ]
    },
    {
      "cell_type": "markdown",
      "metadata": {
        "id": "vM2xSgsX5J8k"
      },
      "source": [
        "Assumptions ในการทำ Factor Analysis:\n",
        "There are no outliers in data.\n",
        "\n",
        "Sample size should be greater than the factor.\n",
        "\n",
        "There should not be perfect multicollinearity.\n",
        "\n",
        "There should not be homoscedasticity between the variables.![download (7).png](data:image/png;base64,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)"
      ]
    },
    {
      "cell_type": "markdown",
      "metadata": {
        "id": "Lku84ziy5WMC"
      },
      "source": [
        "##การทำ Factor Analysis"
      ]
    },
    {
      "cell_type": "code",
      "metadata": {
        "id": "ZaPQ6ACi5CcC"
      },
      "source": [
        "from factor_analyzer import FactorAnalyzer\n",
        "import matplotlib.pyplot as plt\n",
        "\n",
        "#ตอนแรกมันจะ error ว่า No module named 'factor_analyzer'"
      ],
      "execution_count": 14,
      "outputs": []
    },
    {
      "cell_type": "markdown",
      "metadata": {
        "id": "FfmsqvBx5evZ"
      },
      "source": [
        "แก้ไข error No module named 'factor_analyzer'\n",
        "\n",
        "ด้วย !pip install factor_analyzer\n",
        "\n",
        "วิธี install package อื่นๆ\n",
        "\n"
      ]
    },
    {
      "cell_type": "code",
      "metadata": {
        "colab": {
          "base_uri": "https://localhost:8080/"
        },
        "id": "OU545dff5hpO",
        "outputId": "180bbb52-13ee-42d6-a972-fa4fdc9477cf"
      },
      "source": [
        "!pip install factor_analyzer"
      ],
      "execution_count": 15,
      "outputs": [
        {
          "output_type": "stream",
          "text": [
            "Requirement already satisfied: factor_analyzer in /usr/local/lib/python3.7/dist-packages (0.3.2)\n",
            "Requirement already satisfied: scikit-learn in /usr/local/lib/python3.7/dist-packages (from factor_analyzer) (0.22.2.post1)\n",
            "Requirement already satisfied: pandas in /usr/local/lib/python3.7/dist-packages (from factor_analyzer) (1.1.5)\n",
            "Requirement already satisfied: numpy in /usr/local/lib/python3.7/dist-packages (from factor_analyzer) (1.19.5)\n",
            "Requirement already satisfied: scipy in /usr/local/lib/python3.7/dist-packages (from factor_analyzer) (1.4.1)\n",
            "Requirement already satisfied: joblib>=0.11 in /usr/local/lib/python3.7/dist-packages (from scikit-learn->factor_analyzer) (1.0.1)\n",
            "Requirement already satisfied: pytz>=2017.2 in /usr/local/lib/python3.7/dist-packages (from pandas->factor_analyzer) (2018.9)\n",
            "Requirement already satisfied: python-dateutil>=2.7.3 in /usr/local/lib/python3.7/dist-packages (from pandas->factor_analyzer) (2.8.1)\n",
            "Requirement already satisfied: six>=1.5 in /usr/local/lib/python3.7/dist-packages (from python-dateutil>=2.7.3->pandas->factor_analyzer) (1.15.0)\n"
          ],
          "name": "stdout"
        }
      ]
    },
    {
      "cell_type": "code",
      "metadata": {
        "id": "wDn5FnMW5lFJ"
      },
      "source": [
        "from factor_analyzer import FactorAnalyzer\n",
        "import matplotlib.pyplot as plt    # = from matplotlib import pyplot as plt"
      ],
      "execution_count": 16,
      "outputs": []
    },
    {
      "cell_type": "markdown",
      "metadata": {
        "id": "w6y4a4cK5qoA"
      },
      "source": [
        "## Quiz 5 เลือกข้อมูลมาเฉพาะ a1,a2,a3,...,o3,o4,o5 ด้วยคำสั่ง  ``` .iloc[] ```"
      ]
    },
    {
      "cell_type": "code",
      "metadata": {
        "colab": {
          "base_uri": "https://localhost:8080/"
        },
        "id": "4dECe6aW5t40",
        "outputId": "81bad122-9ebb-4f21-bf26-8d4d04f1527c"
      },
      "source": [
        "BFI_data_dropped = BFI_data.iloc[:,26]\n",
        "BFI_data_dropped"
      ],
      "execution_count": 11,
      "outputs": [
        {
          "output_type": "execute_result",
          "data": {
            "text/plain": [
              "0       1\n",
              "1       2\n",
              "2       2\n",
              "3       2\n",
              "4       1\n",
              "       ..\n",
              "2795    1\n",
              "2796    1\n",
              "2797    2\n",
              "2798    1\n",
              "2799    2\n",
              "Name: gender, Length: 2800, dtype: int64"
            ]
          },
          "metadata": {
            "tags": []
          },
          "execution_count": 11
        }
      ]
    }
  ]
}